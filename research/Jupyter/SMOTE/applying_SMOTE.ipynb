{
 "cells": [
  {
   "cell_type": "markdown",
   "id": "5be01b28",
   "metadata": {},
   "source": [
    "# Applying SMOTE on the imbalanced data"
   ]
  },
  {
   "cell_type": "code",
   "execution_count": 101,
   "id": "e9ed7b30",
   "metadata": {},
   "outputs": [],
   "source": [
    "import pandas as pd\n",
    "day_6 = pd.read_csv('train/02-22-2018_clean.csv')\n",
    "day_7 = pd.read_csv('train/02-23-2018_clean.csv')"
   ]
  },
  {
   "cell_type": "code",
   "execution_count": 48,
   "id": "88a97ebe",
   "metadata": {},
   "outputs": [
    {
     "data": {
      "text/plain": [
       "(836237, 71)"
      ]
     },
     "execution_count": 48,
     "metadata": {},
     "output_type": "execute_result"
    }
   ],
   "source": [
    "day_6.shape"
   ]
  },
  {
   "cell_type": "code",
   "execution_count": 49,
   "id": "ca5c5e95",
   "metadata": {},
   "outputs": [
    {
     "data": {
      "text/plain": [
       "(836768, 71)"
      ]
     },
     "execution_count": 49,
     "metadata": {},
     "output_type": "execute_result"
    }
   ],
   "source": [
    "day_7.shape"
   ]
  },
  {
   "cell_type": "code",
   "execution_count": 50,
   "id": "eaebf6a0",
   "metadata": {},
   "outputs": [
    {
     "data": {
      "text/plain": [
       "array([0, 2, 5])"
      ]
     },
     "execution_count": 50,
     "metadata": {},
     "output_type": "execute_result"
    }
   ],
   "source": [
    "day_6[\"Label\"].unique()"
   ]
  },
  {
   "cell_type": "code",
   "execution_count": 51,
   "id": "a1bff4b6",
   "metadata": {},
   "outputs": [
    {
     "name": "stdout",
     "output_type": "stream",
     "text": [
      "835946\n",
      "265\n",
      "26\n"
     ]
    }
   ],
   "source": [
    "print(day_6[\"Label\"].value_counts()[[0]].sum())\n",
    "print(day_6[\"Label\"].value_counts()[[2]].sum())\n",
    "print(day_6[\"Label\"].value_counts()[[5]].sum())"
   ]
  },
  {
   "cell_type": "code",
   "execution_count": 52,
   "id": "a019d218",
   "metadata": {},
   "outputs": [
    {
     "data": {
      "text/plain": [
       "array([0, 2, 5])"
      ]
     },
     "execution_count": 52,
     "metadata": {},
     "output_type": "execute_result"
    }
   ],
   "source": [
    "day_7[\"Label\"].unique()"
   ]
  },
  {
   "cell_type": "code",
   "execution_count": 53,
   "id": "26a4ad84",
   "metadata": {},
   "outputs": [
    {
     "name": "stdout",
     "output_type": "stream",
     "text": [
      "836307\n",
      "421\n",
      "40\n"
     ]
    }
   ],
   "source": [
    "print(day_7[\"Label\"].value_counts()[[0]].sum())\n",
    "print(day_7[\"Label\"].value_counts()[[2]].sum())\n",
    "print(day_7[\"Label\"].value_counts()[[5]].sum())"
   ]
  },
  {
   "cell_type": "code",
   "execution_count": 103,
   "id": "04fe7098",
   "metadata": {},
   "outputs": [
    {
     "name": "stdout",
     "output_type": "stream",
     "text": [
      "0    835946\n",
      "2    835946\n",
      "5    835946\n",
      "Name: Label, dtype: int64\n"
     ]
    }
   ],
   "source": [
    "from imblearn.over_sampling import BorderlineSMOTE\n",
    "\n",
    "# Split the dataset into features and target variable\n",
    "X = day_6.drop('Label', axis=1)\n",
    "y = day_6['Label']\n",
    "\n",
    "# Create a BorderlineSMOTE object\n",
    "borderline_smote = BorderlineSMOTE(random_state=42, k_neighbors=12)\n",
    "\n",
    "# Apply BorderlineSMOTE to the dataset\n",
    "X_resampled, y_resampled = borderline_smote.fit_resample(X, y)\n",
    "\n",
    "# Concatenate the resampled data into a new DataFrame\n",
    "resampled_day_6 = pd.concat([pd.DataFrame(X_resampled), pd.Series(y_resampled)], axis=1)\n",
    "resampled_day_6.columns = day_6.columns\n",
    "\n",
    "# Print the value counts of the target variable in the resampled data\n",
    "print(resampled_day_6['Label'].value_counts())\n"
   ]
  },
  {
   "cell_type": "code",
   "execution_count": 104,
   "id": "4c109659",
   "metadata": {},
   "outputs": [
    {
     "name": "stdout",
     "output_type": "stream",
     "text": [
      "0    836307\n",
      "2    836307\n",
      "5    836307\n",
      "Name: Label, dtype: int64\n"
     ]
    }
   ],
   "source": [
    "from imblearn.over_sampling import BorderlineSMOTE\n",
    "\n",
    "# Split the dataset into features and target variable\n",
    "X = day_7.drop('Label', axis=1)\n",
    "y = day_7['Label']\n",
    "\n",
    "# Create a BorderlineSMOTE object\n",
    "borderline_smote = BorderlineSMOTE(random_state=42, k_neighbors=12)\n",
    "\n",
    "# Apply BorderlineSMOTE to the dataset\n",
    "X_resampled, y_resampled = borderline_smote.fit_resample(X, y)\n",
    "\n",
    "# Concatenate the resampled data into a new DataFrame\n",
    "resampled_day_7 = pd.concat([pd.DataFrame(X_resampled), pd.Series(y_resampled)], axis=1)\n",
    "resampled_day_7.columns = day_6.columns\n",
    "\n",
    "# Print the value counts of the target variable in the resampled data\n",
    "print(resampled_day_7['Label'].value_counts())\n"
   ]
  },
  {
   "cell_type": "code",
   "execution_count": 19,
   "id": "5f1c6cf0",
   "metadata": {},
   "outputs": [],
   "source": [
    "day_1 = pd.read_csv(\"train/02-14-2018_clean.csv\")\n",
    "day_2 = pd.read_csv(\"train/02-15-2018_clean.csv\")\n",
    "day_3 = pd.read_csv(\"train/02-16-2018_clean.csv\")\n",
    "day_4 = pd.read_csv(\"train/02-20-2018_clean.csv\")\n",
    "day_5 = pd.read_csv(\"train/02-21-2018_clean.csv\")\n",
    "day_8 = pd.read_csv(\"train/02-28-2018_clean.csv\")\n",
    "day_9 = pd.read_csv(\"train/03-01-2018_clean.csv\")\n",
    "day_10 = pd.read_csv(\"train/03-02-2018_clean.csv\")"
   ]
  },
  {
   "cell_type": "code",
   "execution_count": 105,
   "id": "84f731d1",
   "metadata": {},
   "outputs": [],
   "source": [
    "import pandas as pd\n",
    "\n",
    "# repeat for all 10 files\n",
    "\n",
    "# randomly sample 10% of rows from each dataframe\n",
    "sampled_day_1 = day_1.sample(frac=0.1, random_state=42)\n",
    "sampled_day_2 = day_2.sample(frac=0.1, random_state=42)\n",
    "sampled_day_3 = day_3.sample(frac=0.1, random_state=42)\n",
    "sampled_day_4 = day_4.sample(frac=0.1, random_state=42)\n",
    "sampled_day_5 = day_5.sample(frac=0.1, random_state=42)\n",
    "sampled_day_6 = day_6.sample(frac=0.1, random_state=42)\n",
    "sampled_day_7 = day_7.sample(frac=0.1, random_state=42)\n",
    "sampled_day_8 = day_8.sample(frac=0.1, random_state=42)\n",
    "sampled_day_9 = day_9.sample(frac=0.1, random_state=42)\n",
    "sampled_day_10 = day_10.sample(frac=0.1, random_state=42)\n",
    "\n",
    "# concatenate sampled dataframes into a single dataframe\n",
    "data = pd.concat([sampled_day_1, sampled_day_2, sampled_day_3, sampled_day_4, sampled_day_5, sampled_day_6, sampled_day_7, sampled_day_8, sampled_day_9, sampled_day_10], ignore_index=True)\n"
   ]
  },
  {
   "cell_type": "code",
   "execution_count": 25,
   "id": "68a16b20",
   "metadata": {},
   "outputs": [
    {
     "name": "stdout",
     "output_type": "stream",
     "text": [
      "Dst Port         0\n",
      "Protocol         0\n",
      "Flow Duration    0\n",
      "Tot Fwd Pkts     0\n",
      "Tot Bwd Pkts     0\n",
      "                ..\n",
      "Idle Max         0\n",
      "Idle Min         0\n",
      "Date             0\n",
      "Time             0\n",
      "Label            0\n",
      "Length: 71, dtype: int64\n",
      "Dst Port         0\n",
      "Protocol         0\n",
      "Flow Duration    0\n",
      "Tot Fwd Pkts     0\n",
      "Tot Bwd Pkts     0\n",
      "                ..\n",
      "Idle Max         0\n",
      "Idle Min         0\n",
      "Date             0\n",
      "Time             0\n",
      "Label            0\n",
      "Length: 71, dtype: int64\n"
     ]
    }
   ],
   "source": [
    "import numpy as np\n",
    "print(data.isna().sum())\n",
    "print(np.isinf(data).sum())"
   ]
  },
  {
   "cell_type": "code",
   "execution_count": 30,
   "id": "36c2f9ff",
   "metadata": {},
   "outputs": [],
   "source": [
    "data = data.fillna(data.mean())"
   ]
  },
  {
   "cell_type": "code",
   "execution_count": 28,
   "id": "0e0395a0",
   "metadata": {},
   "outputs": [],
   "source": [
    "data.dropna(inplace=True)"
   ]
  },
  {
   "cell_type": "code",
   "execution_count": 106,
   "id": "1e177dac",
   "metadata": {},
   "outputs": [],
   "source": [
    "data = data.astype('int64')"
   ]
  },
  {
   "cell_type": "code",
   "execution_count": 107,
   "id": "b446159a",
   "metadata": {},
   "outputs": [],
   "source": [
    "data1 = data.sample(frac=0.1, random_state=42)"
   ]
  },
  {
   "cell_type": "code",
   "execution_count": 108,
   "id": "a10f7419",
   "metadata": {},
   "outputs": [
    {
     "name": "stdout",
     "output_type": "stream",
     "text": [
      "Accuracy: 0.9920490506329114\n"
     ]
    }
   ],
   "source": [
    "from sklearn.model_selection import train_test_split\n",
    "from sklearn.tree import DecisionTreeClassifier\n",
    "from sklearn.ensemble import AdaBoostClassifier\n",
    "from sklearn.metrics import accuracy_score\n",
    "\n",
    "# assuming \"data\" is your dataset and \"label\" is the column containing the labels\n",
    "X = data1.drop('Label', axis=1)\n",
    "y = data1['Label']\n",
    "\n",
    "# split the dataset into training and testing sets with a 70:30 ratio\n",
    "X_train, X_test, y_train, y_test = train_test_split(X, y, test_size=0.2, random_state=42)\n",
    "\n",
    "# create an AdaBoostClassifier with decision tree as the base estimator\n",
    "clf = AdaBoostClassifier(n_estimators=50, base_estimator=DecisionTreeClassifier())\n",
    "\n",
    "# train the classifier on the \"train\" dataset\n",
    "clf.fit(X_train, y_train)\n",
    "\n",
    "# predict the labels of the \"test\" dataset using the trained classifier\n",
    "y_pred = clf.predict(X_test)\n",
    "\n",
    "# evaluate the performance of the classifier on the \"test\" dataset using accuracy score\n",
    "accuracy = accuracy_score(y_test, y_pred)\n",
    "print(\"Accuracy:\", accuracy)\n"
   ]
  },
  {
   "cell_type": "code",
   "execution_count": 109,
   "id": "8287305d",
   "metadata": {},
   "outputs": [
    {
     "name": "stdout",
     "output_type": "stream",
     "text": [
      "Precision: [0.99241554 1.         1.         1.         0.72093023]\n",
      "Recall: [0.99833534 1.         0.99553571 1.         0.3618677 ]\n",
      "F1-score: [0.99536664 1.         0.99776286 1.         0.48186528]\n",
      "Confusion Matrix:\n",
      "[[21590     0     0     0    36]\n",
      " [    0   448     0     0     0]\n",
      " [    1     0   223     0     0]\n",
      " [    0     0     0  2725     0]\n",
      " [  164     0     0     0    93]]\n"
     ]
    }
   ],
   "source": [
    "from sklearn.metrics import precision_recall_fscore_support, confusion_matrix\n",
    "\n",
    "precision, recall, f1_score, support = precision_recall_fscore_support(y_test, y_pred)\n",
    "print(\"Precision:\", precision)\n",
    "print(\"Recall:\", recall)\n",
    "print(\"F1-score:\", f1_score)\n",
    "\n",
    "# calculate the confusion matrix\n",
    "cm = confusion_matrix(y_test, y_pred)\n",
    "print(\"Confusion Matrix:\")\n",
    "print(cm)"
   ]
  },
  {
   "cell_type": "code",
   "execution_count": 110,
   "id": "132f4067",
   "metadata": {},
   "outputs": [
    {
     "name": "stdout",
     "output_type": "stream",
     "text": [
      "Accuracy: 0.9920490506329114\n",
      "Precision: 0.9906747415165558\n",
      "Recall: 0.9920490506329114\n",
      "F1-score: 0.9907490946084693\n"
     ]
    }
   ],
   "source": [
    "from sklearn.metrics import precision_recall_fscore_support\n",
    "\n",
    "precision, recall, f1_score, _ = precision_recall_fscore_support(y_test, y_pred, average='weighted')\n",
    "\n",
    "print(\"Accuracy:\", accuracy)\n",
    "print(\"Precision:\", precision)\n",
    "print(\"Recall:\", recall)\n",
    "print(\"F1-score:\", f1_score)\n"
   ]
  },
  {
   "cell_type": "code",
   "execution_count": 111,
   "id": "0988dde7",
   "metadata": {},
   "outputs": [
    {
     "name": "stdout",
     "output_type": "stream",
     "text": [
      "[[21590     0     0     0    36]\n",
      " [    0   448     0     0     0]\n",
      " [    1     0   223     0     0]\n",
      " [    0     0     0  2725     0]\n",
      " [  164     0     0     0    93]]\n"
     ]
    }
   ],
   "source": [
    "print(cm)"
   ]
  },
  {
   "cell_type": "code",
   "execution_count": 112,
   "id": "a4c3a590",
   "metadata": {},
   "outputs": [
    {
     "data": {
      "image/png": "[encoded data removed]",
      "text/plain": [
       "<Figure size 800x800 with 2 Axes>"
      ]
     },
     "metadata": {},
     "output_type": "display_data"
    }
   ],
   "source": [
    "import numpy as np\n",
    "import matplotlib.pyplot as plt\n",
    "from sklearn.metrics import confusion_matrix\n",
    "\n",
    "# assuming \"y_test\" and \"y_pred\" are the ground truth labels and predicted labels, respectively\n",
    "cm = confusion_matrix(y_test, y_pred)\n",
    "\n",
    "# define class labels\n",
    "class_names = ['Benign', 'Bot', 'Brute Force', 'Dos', 'Infiltration', 'SQL Injection']\n",
    "\n",
    "# plot the confusion matrix\n",
    "plt.figure(figsize=(8, 8))\n",
    "plt.imshow(cm, interpolation='nearest', cmap=plt.cm.Blues)\n",
    "plt.title('Confusion Matrix')\n",
    "plt.colorbar()\n",
    "tick_marks = np.arange(len(class_names))\n",
    "plt.xticks(tick_marks, class_names, rotation=45)\n",
    "plt.yticks(tick_marks, class_names)\n",
    "\n",
    "# plot the text annotations\n",
    "thresh = cm.max() / 2.\n",
    "for i, j in np.ndindex(cm.shape):\n",
    "    plt.text(j, i, format(cm[i, j], 'd'),\n",
    "             horizontalalignment=\"center\",\n",
    "             color=\"white\" if cm[i, j] > thresh else \"black\")\n",
    "\n",
    "plt.tight_layout()\n",
    "plt.ylabel('True Label')\n",
    "plt.xlabel('Predicted Label')\n",
    "plt.show()\n",
    "\n"
   ]
  },
  {
   "cell_type": "code",
   "execution_count": 113,
   "id": "03e5db86",
   "metadata": {},
   "outputs": [
    {
     "name": "stdout",
     "output_type": "stream",
     "text": [
      "Accuracy on test data: 0.9921403944043506\n"
     ]
    }
   ],
   "source": [
    "import pandas as pd\n",
    "from sklearn.metrics import accuracy_score\n",
    "\n",
    "# Load the 'test.csv' dataset into a pandas dataframe\n",
    "test_data = pd.read_csv('test/test.csv')\n",
    "test_data = test_data.astype('int64')\n",
    "# Preprocess the data (e.g., remove missing values, encode categorical variables, etc.)\n",
    "# ...\n",
    "\n",
    "# Split the preprocessed 'test' data into X_test and y_test\n",
    "X_test = test_data.drop('Label', axis=1)\n",
    "y_test = test_data['Label']\n",
    "\n",
    "# Use the trained model to predict the labels of X_test\n",
    "y_pred = clf.predict(X_test)\n",
    "\n",
    "# Compare the predicted labels with the true labels (y_test) and compute the accuracy\n",
    "accuracy = accuracy_score(y_test, y_pred)\n",
    "\n",
    "print('Accuracy on test data:', accuracy)\n"
   ]
  },
  {
   "cell_type": "code",
   "execution_count": 114,
   "id": "d5617493",
   "metadata": {},
   "outputs": [
    {
     "name": "stdout",
     "output_type": "stream",
     "text": [
      "Accuracy: 0.9921403944043506\n",
      "Precision: 0.9908693561853926\n",
      "Recall: 0.9921403944043506\n",
      "F1-score: 0.9909418804119551\n"
     ]
    }
   ],
   "source": [
    "precision, recall, f1_score, _ = precision_recall_fscore_support(y_test, y_pred, average='weighted')\n",
    "\n",
    "print(\"Accuracy:\", accuracy)\n",
    "print(\"Precision:\", precision)\n",
    "print(\"Recall:\", recall)\n",
    "print(\"F1-score:\", f1_score)"
   ]
  },
  {
   "cell_type": "code",
   "execution_count": null,
   "id": "6678c218",
   "metadata": {},
   "outputs": [],
   "source": []
  },
  {
   "cell_type": "code",
   "execution_count": null,
   "id": "d001be48",
   "metadata": {},
   "outputs": [],
   "source": []
  },
  {
   "cell_type": "code",
   "execution_count": 78,
   "id": "4cb93ceb",
   "metadata": {},
   "outputs": [],
   "source": [
    "df = day_6.sample(frac=0.01, random_state=42)"
   ]
  },
  {
   "cell_type": "code",
   "execution_count": 82,
   "id": "51d8fc99",
   "metadata": {},
   "outputs": [
    {
     "ename": "TypeError",
     "evalue": "__init__() got an unexpected keyword argument 'k_neighbors_ratio'",
     "output_type": "error",
     "traceback": [
      "\u001b[0;31m---------------------------------------------------------------------------\u001b[0m",
      "\u001b[0;31mTypeError\u001b[0m                                 Traceback (most recent call last)",
      "\u001b[0;32m/var/folders/7t/6qs561wj79vg29_cgy74ngwh0000gn/T/ipykernel_68578/3216768598.py\u001b[0m in \u001b[0;36m<module>\u001b[0;34m\u001b[0m\n\u001b[1;32m      6\u001b[0m \u001b[0;34m\u001b[0m\u001b[0m\n\u001b[1;32m      7\u001b[0m \u001b[0;31m# Create a SMOTETomek object\u001b[0m\u001b[0;34m\u001b[0m\u001b[0;34m\u001b[0m\u001b[0m\n\u001b[0;32m----> 8\u001b[0;31m \u001b[0msmote_tomek\u001b[0m \u001b[0;34m=\u001b[0m \u001b[0mSMOTETomek\u001b[0m\u001b[0;34m(\u001b[0m\u001b[0mrandom_state\u001b[0m\u001b[0;34m=\u001b[0m\u001b[0;36m42\u001b[0m\u001b[0;34m,\u001b[0m \u001b[0msampling_strategy\u001b[0m\u001b[0;34m=\u001b[0m\u001b[0;34m'minority'\u001b[0m\u001b[0;34m,\u001b[0m \u001b[0mk_neighbors_ratio\u001b[0m\u001b[0;34m=\u001b[0m\u001b[0;36m0.5\u001b[0m\u001b[0;34m)\u001b[0m\u001b[0;34m\u001b[0m\u001b[0;34m\u001b[0m\u001b[0m\n\u001b[0m\u001b[1;32m      9\u001b[0m \u001b[0;34m\u001b[0m\u001b[0m\n\u001b[1;32m     10\u001b[0m \u001b[0;31m# Apply SMOTE-Tomek to the dataset\u001b[0m\u001b[0;34m\u001b[0m\u001b[0;34m\u001b[0m\u001b[0m\n",
      "\u001b[0;31mTypeError\u001b[0m: __init__() got an unexpected keyword argument 'k_neighbors_ratio'"
     ]
    }
   ],
   "source": [
    "from imblearn.combine import SMOTETomek\n",
    "\n",
    "# Split the dataset into features and target variable\n",
    "X = df.drop('Label', axis=1)\n",
    "y = df['Label']\n",
    "\n",
    "# Create a SMOTETomek object\n",
    "smote_tomek = SMOTETomek(random_state=42, sampling_strategy='minority', k_neighbors_ratio=0.5)\n",
    "\n",
    "# Apply SMOTE-Tomek to the dataset\n",
    "X_resampled, y_resampled = smote_tomek.fit_resample(X, y)\n",
    "\n",
    "# Concatenate the resampled data into a new DataFrame\n",
    "resampled_df = pd.concat([pd.DataFrame(X_resampled), pd.Series(y_resampled)], axis=1)\n",
    "resampled_df.columns = df.columns\n",
    "\n",
    "# Print the value counts of the target variable in the resampled data\n",
    "print(resampled_df['Label'].value_counts())\n",
    "\n"
   ]
  },
  {
   "cell_type": "code",
   "execution_count": null,
   "id": "7233b964",
   "metadata": {},
   "outputs": [],
   "source": []
  },
  {
   "cell_type": "code",
   "execution_count": null,
   "id": "17996ac4",
   "metadata": {},
   "outputs": [],
   "source": []
  },
  {
   "cell_type": "code",
   "execution_count": null,
   "id": "850f6de6",
   "metadata": {},
   "outputs": [],
   "source": []
  },
  {
   "cell_type": "code",
   "execution_count": 100,
   "id": "300b314d",
   "metadata": {},
   "outputs": [
    {
     "name": "stdout",
     "output_type": "stream",
     "text": [
      "Accuracy: 0.9913502109704642\n"
     ]
    }
   ],
   "source": [
    "from sklearn.model_selection import train_test_split\n",
    "from sklearn.tree import DecisionTreeClassifier\n",
    "from sklearn.ensemble import AdaBoostClassifier\n",
    "from sklearn.metrics import accuracy_score\n",
    "\n",
    "# assuming \"data\" is your dataset and \"label\" is the column containing the labels\n",
    "X = data1.drop('Label', axis=1)\n",
    "y = data1['Label']\n",
    "\n",
    "# split the dataset into training and testing sets with a 70:30 ratio\n",
    "X_train, X_test, y_train, y_test = train_test_split(X, y, test_size=0.2, random_state=42)\n",
    "\n",
    "# create an AdaBoostClassifier with decision tree as the base estimator\n",
    "newModel = AdaBoostClassifier(n_estimators=50, base_estimator=DecisionTreeClassifier())\n",
    "\n",
    "# train the classifier on the \"train\" dataset\n",
    "newModel.fit(X_train, y_train)\n",
    "\n",
    "# predict the labels of the \"test\" dataset using the trained classifier\n",
    "y_pred = newModel.predict(X_test)\n",
    "\n",
    "# evaluate the performance of the classifier on the \"test\" dataset using accuracy score\n",
    "accuracy = accuracy_score(y_test, y_pred)\n",
    "print(\"Accuracy:\", accuracy)"
   ]
  },
  {
   "cell_type": "code",
   "execution_count": 117,
   "id": "a3157d07",
   "metadata": {},
   "outputs": [
    {
     "name": "stdout",
     "output_type": "stream",
     "text": [
      "              precision    recall  f1-score   support\n",
      "\n",
      "           0     0.9925    0.9983    0.9954   2688282\n",
      "           1     0.9999    0.9992    0.9995     56613\n",
      "           2     0.9999    0.9963    0.9981     31550\n",
      "           3     1.0000    0.9998    0.9999    350965\n",
      "           4     0.7324    0.3853    0.5050     32524\n",
      "           5     0.5000    0.0476    0.0870        21\n",
      "\n",
      "    accuracy                         0.9921   3159955\n",
      "   macro avg     0.8708    0.7378    0.7641   3159955\n",
      "weighted avg     0.9909    0.9921    0.9909   3159955\n",
      "\n"
     ]
    }
   ],
   "source": [
    "from sklearn.metrics import classification_report\n",
    "\n",
    "print(classification_report(y_test, y_pred, digits=4))\n",
    "\n"
   ]
  },
  {
   "cell_type": "code",
   "execution_count": null,
   "id": "43afea00",
   "metadata": {},
   "outputs": [],
   "source": []
  }
 ],
 "metadata": {
  "kernelspec": {
   "display_name": "Python 3 (ipykernel)",
   "language": "python",
   "name": "python3"
  },
  "language_info": {
   "codemirror_mode": {
    "name": "ipython",
    "version": 3
   },
   "file_extension": ".py",
   "mimetype": "text/x-python",
   "name": "python",
   "nbconvert_exporter": "python",
   "pygments_lexer": "ipython3",
   "version": "3.9.13"
  }
 },
 "nbformat": 4,
 "nbformat_minor": 5
}
