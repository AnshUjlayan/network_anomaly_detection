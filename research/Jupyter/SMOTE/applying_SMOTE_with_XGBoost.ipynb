{
 "cells": [
  {
   "cell_type": "markdown",
   "id": "5be01b28",
   "metadata": {},
   "source": [
    "# Applying SMOTE on the imbalanced data"
   ]
  },
  {
   "cell_type": "code",
   "execution_count": 37,
   "id": "e9ed7b30",
   "metadata": {},
   "outputs": [],
   "source": [
    "import pandas as pd\n",
    "day_6 = pd.read_csv('train/02-22-2018_clean.csv')\n",
    "day_7 = pd.read_csv('train/02-23-2018_clean.csv')"
   ]
  },
  {
   "cell_type": "code",
   "execution_count": 38,
   "id": "88a97ebe",
   "metadata": {},
   "outputs": [
    {
     "data": {
      "text/plain": [
       "(836237, 71)"
      ]
     },
     "execution_count": 38,
     "metadata": {},
     "output_type": "execute_result"
    }
   ],
   "source": [
    "day_6.shape"
   ]
  },
  {
   "cell_type": "code",
   "execution_count": 39,
   "id": "ca5c5e95",
   "metadata": {},
   "outputs": [
    {
     "data": {
      "text/plain": [
       "(836768, 71)"
      ]
     },
     "execution_count": 39,
     "metadata": {},
     "output_type": "execute_result"
    }
   ],
   "source": [
    "day_7.shape"
   ]
  },
  {
   "cell_type": "code",
   "execution_count": 40,
   "id": "eaebf6a0",
   "metadata": {},
   "outputs": [
    {
     "data": {
      "text/plain": [
       "array([0, 2, 5])"
      ]
     },
     "execution_count": 40,
     "metadata": {},
     "output_type": "execute_result"
    }
   ],
   "source": [
    "day_6[\"Label\"].unique()"
   ]
  },
  {
   "cell_type": "code",
   "execution_count": 41,
   "id": "a1bff4b6",
   "metadata": {},
   "outputs": [
    {
     "name": "stdout",
     "output_type": "stream",
     "text": [
      "835946\n",
      "265\n",
      "26\n"
     ]
    }
   ],
   "source": [
    "print(day_6[\"Label\"].value_counts()[[0]].sum())\n",
    "print(day_6[\"Label\"].value_counts()[[2]].sum())\n",
    "print(day_6[\"Label\"].value_counts()[[5]].sum())"
   ]
  },
  {
   "cell_type": "code",
   "execution_count": 42,
   "id": "a019d218",
   "metadata": {},
   "outputs": [
    {
     "data": {
      "text/plain": [
       "array([0, 2, 5])"
      ]
     },
     "execution_count": 42,
     "metadata": {},
     "output_type": "execute_result"
    }
   ],
   "source": [
    "day_7[\"Label\"].unique()"
   ]
  },
  {
   "cell_type": "code",
   "execution_count": 43,
   "id": "26a4ad84",
   "metadata": {},
   "outputs": [
    {
     "name": "stdout",
     "output_type": "stream",
     "text": [
      "836307\n",
      "421\n",
      "40\n"
     ]
    }
   ],
   "source": [
    "print(day_7[\"Label\"].value_counts()[[0]].sum())\n",
    "print(day_7[\"Label\"].value_counts()[[2]].sum())\n",
    "print(day_7[\"Label\"].value_counts()[[5]].sum())"
   ]
  },
  {
   "cell_type": "code",
   "execution_count": 44,
   "id": "425dc1a3",
   "metadata": {},
   "outputs": [],
   "source": [
    "day_6 = day_6.astype('int64')\n",
    "day_7 = day_7.astype('int64')"
   ]
  },
  {
   "cell_type": "code",
   "execution_count": 19,
   "id": "04fe7098",
   "metadata": {},
   "outputs": [
    {
     "name": "stdout",
     "output_type": "stream",
     "text": [
      "0    835946\n",
      "2    835946\n",
      "5    835946\n",
      "Name: Label, dtype: int64\n"
     ]
    }
   ],
   "source": [
    "from imblearn.over_sampling import BorderlineSMOTE\n",
    "\n",
    "# Split the dataset into features and target variable\n",
    "X = day_6.drop('Label', axis=1)\n",
    "y = day_6['Label']\n",
    "\n",
    "# Create a BorderlineSMOTE object\n",
    "borderline_smote = BorderlineSMOTE(random_state=42, k_neighbors=12)\n",
    "\n",
    "# Apply BorderlineSMOTE to the dataset\n",
    "X_resampled, y_resampled = borderline_smote.fit_resample(X, y)\n",
    "\n",
    "# Concatenate the resampled data into a new DataFrame\n",
    "resampled_day_6 = pd.concat([pd.DataFrame(X_resampled), pd.Series(y_resampled)], axis=1)\n",
    "resampled_day_6.columns = day_6.columns\n",
    "\n",
    "# Print the value counts of the target variable in the resampled data\n",
    "print(resampled_day_6['Label'].value_counts())\n"
   ]
  },
  {
   "cell_type": "code",
   "execution_count": 20,
   "id": "4c109659",
   "metadata": {},
   "outputs": [
    {
     "name": "stdout",
     "output_type": "stream",
     "text": [
      "0    836307\n",
      "2    836307\n",
      "5    836307\n",
      "Name: Label, dtype: int64\n"
     ]
    }
   ],
   "source": [
    "from imblearn.over_sampling import BorderlineSMOTE\n",
    "\n",
    "# Split the dataset into features and target variable\n",
    "X = day_7.drop('Label', axis=1)\n",
    "y = day_7['Label']\n",
    "\n",
    "# Create a BorderlineSMOTE object\n",
    "borderline_smote = BorderlineSMOTE(random_state=42, k_neighbors=12)\n",
    "\n",
    "# Apply BorderlineSMOTE to the dataset\n",
    "X_resampled, y_resampled = borderline_smote.fit_resample(X, y)\n",
    "\n",
    "# Concatenate the resampled data into a new DataFrame\n",
    "resampled_day_7 = pd.concat([pd.DataFrame(X_resampled), pd.Series(y_resampled)], axis=1)\n",
    "resampled_day_7.columns = day_6.columns\n",
    "\n",
    "# Print the value counts of the target variable in the resampled data\n",
    "print(resampled_day_7['Label'].value_counts())\n"
   ]
  },
  {
   "cell_type": "code",
   "execution_count": 54,
   "id": "84f731d1",
   "metadata": {},
   "outputs": [],
   "source": [
    "# concatenate sampled dataframes into a single dataframe\n",
    "data = pd.concat([day_6, day_7], ignore_index=True)"
   ]
  },
  {
   "cell_type": "code",
   "execution_count": 22,
   "id": "68a16b20",
   "metadata": {},
   "outputs": [
    {
     "name": "stdout",
     "output_type": "stream",
     "text": [
      "Dst Port         0\n",
      "Protocol         0\n",
      "Flow Duration    0\n",
      "Tot Fwd Pkts     0\n",
      "Tot Bwd Pkts     0\n",
      "                ..\n",
      "Idle Max         0\n",
      "Idle Min         0\n",
      "Date             0\n",
      "Time             0\n",
      "Label            0\n",
      "Length: 71, dtype: int64\n",
      "Dst Port         0\n",
      "Protocol         0\n",
      "Flow Duration    0\n",
      "Tot Fwd Pkts     0\n",
      "Tot Bwd Pkts     0\n",
      "                ..\n",
      "Idle Max         0\n",
      "Idle Min         0\n",
      "Date             0\n",
      "Time             0\n",
      "Label            0\n",
      "Length: 71, dtype: int64\n"
     ]
    }
   ],
   "source": [
    "import numpy as np\n",
    "print(data.isna().sum())\n",
    "print(np.isinf(data).sum())"
   ]
  },
  {
   "cell_type": "code",
   "execution_count": 23,
   "id": "36c2f9ff",
   "metadata": {},
   "outputs": [],
   "source": [
    "data = data.fillna(data.mean())"
   ]
  },
  {
   "cell_type": "code",
   "execution_count": 24,
   "id": "0e0395a0",
   "metadata": {},
   "outputs": [],
   "source": [
    "data.dropna(inplace=True)"
   ]
  },
  {
   "cell_type": "code",
   "execution_count": 25,
   "id": "1e177dac",
   "metadata": {},
   "outputs": [],
   "source": [
    "data = data.astype('int64')"
   ]
  },
  {
   "cell_type": "code",
   "execution_count": 44,
   "id": "a10f7419",
   "metadata": {},
   "outputs": [
    {
     "name": "stdout",
     "output_type": "stream",
     "text": [
      "Accuracy: 0.999928272778623\n"
     ]
    }
   ],
   "source": [
    "from sklearn.model_selection import train_test_split\n",
    "from sklearn.tree import DecisionTreeClassifier\n",
    "from sklearn.ensemble import AdaBoostClassifier\n",
    "from sklearn.metrics import accuracy_score\n",
    "\n",
    "# assuming \"data\" is your dataset and \"label\" is the column containing the labels\n",
    "X = data.drop('Label', axis=1)\n",
    "y = data['Label']\n",
    "\n",
    "# split the dataset into training and testing sets with a 70:30 ratio\n",
    "X_train, X_test, y_train, y_test = train_test_split(X, y, test_size=0.2, random_state=42)\n",
    "\n",
    "# create an AdaBoostClassifier with decision tree as the base estimator\n",
    "clf = AdaBoostClassifier(n_estimators=50, base_estimator=DecisionTreeClassifier())\n",
    "\n",
    "# train the classifier on the \"train\" dataset\n",
    "clf.fit(X_train, y_train)\n",
    "\n",
    "# predict the labels of the \"test\" dataset using the trained classifier\n",
    "y_pred = clf.predict(X_test)\n",
    "\n",
    "# evaluate the performance of the classifier on the \"test\" dataset using accuracy score\n",
    "accuracy = accuracy_score(y_test, y_pred)\n",
    "print(\"Accuracy:\", accuracy)\n"
   ]
  },
  {
   "cell_type": "code",
   "execution_count": 56,
   "id": "8287305d",
   "metadata": {},
   "outputs": [
    {
     "name": "stdout",
     "output_type": "stream",
     "text": [
      "Precision: [0.99998206 0.         0.00819672 0.        ]\n",
      "Recall: [0.99999402 0.         0.0625     0.        ]\n",
      "F1-score: [0.99998804 0.         0.01449275 0.        ]\n",
      "Confusion Matrix:\n",
      "[[334457      0      2      0]\n",
      " [     6      0    119      1]\n",
      " [     0      0      1     15]\n",
      " [     0      0      0      0]]\n"
     ]
    },
    {
     "name": "stderr",
     "output_type": "stream",
     "text": [
      "/Users/anshujlayan/opt/anaconda3/lib/python3.9/site-packages/sklearn/metrics/_classification.py:1318: UndefinedMetricWarning: Precision and F-score are ill-defined and being set to 0.0 in labels with no predicted samples. Use `zero_division` parameter to control this behavior.\n",
      "  _warn_prf(average, modifier, msg_start, len(result))\n",
      "/Users/anshujlayan/opt/anaconda3/lib/python3.9/site-packages/sklearn/metrics/_classification.py:1318: UndefinedMetricWarning: Recall and F-score are ill-defined and being set to 0.0 in labels with no true samples. Use `zero_division` parameter to control this behavior.\n",
      "  _warn_prf(average, modifier, msg_start, len(result))\n"
     ]
    }
   ],
   "source": [
    "from sklearn.metrics import precision_recall_fscore_support, confusion_matrix\n",
    "\n",
    "precision, recall, f1_score, support = precision_recall_fscore_support(y_test, y_pred)\n",
    "print(\"Precision:\", precision)\n",
    "print(\"Recall:\", recall)\n",
    "print(\"F1-score:\", f1_score)\n",
    "\n",
    "# calculate the confusion matrix\n",
    "cm = confusion_matrix(y_test, y_pred)\n",
    "print(\"Confusion Matrix:\")\n",
    "print(cm)"
   ]
  },
  {
   "cell_type": "code",
   "execution_count": 57,
   "id": "132f4067",
   "metadata": {},
   "outputs": [
    {
     "name": "stdout",
     "output_type": "stream",
     "text": [
      "Accuracy: 0.9995726253059615\n",
      "Precision: 0.9995580743013255\n",
      "Recall: 0.9995726253059615\n",
      "F1-score: 0.9995643524914066\n"
     ]
    },
    {
     "name": "stderr",
     "output_type": "stream",
     "text": [
      "/Users/anshujlayan/opt/anaconda3/lib/python3.9/site-packages/sklearn/metrics/_classification.py:1318: UndefinedMetricWarning: Precision and F-score are ill-defined and being set to 0.0 in labels with no predicted samples. Use `zero_division` parameter to control this behavior.\n",
      "  _warn_prf(average, modifier, msg_start, len(result))\n",
      "/Users/anshujlayan/opt/anaconda3/lib/python3.9/site-packages/sklearn/metrics/_classification.py:1318: UndefinedMetricWarning: Recall and F-score are ill-defined and being set to 0.0 in labels with no true samples. Use `zero_division` parameter to control this behavior.\n",
      "  _warn_prf(average, modifier, msg_start, len(result))\n"
     ]
    }
   ],
   "source": [
    "from sklearn.metrics import precision_recall_fscore_support\n",
    "\n",
    "precision, recall, f1_score, _ = precision_recall_fscore_support(y_test, y_pred, average='weighted')\n",
    "\n",
    "print(\"Accuracy:\", accuracy)\n",
    "print(\"Precision:\", precision)\n",
    "print(\"Recall:\", recall)\n",
    "print(\"F1-score:\", f1_score)"
   ]
  },
  {
   "cell_type": "code",
   "execution_count": 58,
   "id": "0988dde7",
   "metadata": {},
   "outputs": [
    {
     "name": "stdout",
     "output_type": "stream",
     "text": [
      "[[334457      0      2      0]\n",
      " [     6      0    119      1]\n",
      " [     0      0      1     15]\n",
      " [     0      0      0      0]]\n"
     ]
    }
   ],
   "source": [
    "print(cm)"
   ]
  },
  {
   "cell_type": "code",
   "execution_count": 59,
   "id": "a4c3a590",
   "metadata": {},
   "outputs": [
    {
     "data": {
      "image/png": "[encoded data removed]",
      "text/plain": [
       "<Figure size 800x800 with 2 Axes>"
      ]
     },
     "metadata": {},
     "output_type": "display_data"
    }
   ],
   "source": [
    "import numpy as np\n",
    "import matplotlib.pyplot as plt\n",
    "from sklearn.metrics import confusion_matrix\n",
    "\n",
    "# assuming \"y_test\" and \"y_pred\" are the ground truth labels and predicted labels, respectively\n",
    "cm = confusion_matrix(y_test, y_pred)\n",
    "\n",
    "# define class labels\n",
    "class_names = ['Benign', 'Brute Force', 'SQL Injection']\n",
    "\n",
    "# plot the confusion matrix\n",
    "plt.figure(figsize=(8, 8))\n",
    "plt.imshow(cm, interpolation='nearest', cmap=plt.cm.Blues)\n",
    "plt.title('Confusion Matrix')\n",
    "plt.colorbar()\n",
    "tick_marks = np.arange(len(class_names))\n",
    "plt.xticks(tick_marks, class_names, rotation=45)\n",
    "plt.yticks(tick_marks, class_names)\n",
    "\n",
    "# plot the text annotations\n",
    "thresh = cm.max() / 2.\n",
    "for i, j in np.ndindex(cm.shape):\n",
    "    plt.text(j, i, format(cm[i, j], 'd'),\n",
    "             horizontalalignment=\"center\",\n",
    "             color=\"white\" if cm[i, j] > thresh else \"black\")\n",
    "\n",
    "plt.tight_layout()\n",
    "plt.ylabel('True Label')\n",
    "plt.xlabel('Predicted Label')\n",
    "plt.show()\n",
    "\n"
   ]
  },
  {
   "cell_type": "code",
   "execution_count": 60,
   "id": "03e5db86",
   "metadata": {},
   "outputs": [
    {
     "name": "stdout",
     "output_type": "stream",
     "text": [
      "Accuracy on test data: 0.9878044879631362\n"
     ]
    }
   ],
   "source": [
    "import pandas as pd\n",
    "from sklearn.metrics import accuracy_score\n",
    "\n",
    "# Load the 'test.csv' dataset into a pandas dataframe\n",
    "test_data = pd.read_csv('test/test.csv')\n",
    "test_data = test_data.astype('int64')\n",
    "# Preprocess the data (e.g., remove missing values, encode categorical variables, etc.)\n",
    "# ...\n",
    "desired_labels = [0, 2, 5]\n",
    "test_data = test_data[test_data['Label'].isin(desired_labels)]\n",
    "\n",
    "# Split the preprocessed 'test' data into X_test and y_test\n",
    "X_test = test_data.drop('Label', axis=1)\n",
    "y_test = test_data['Label']\n",
    "\n",
    "# Use the trained model to predict the labels of X_test\n",
    "y_pred = clf.predict(X_test)\n",
    "\n",
    "# Compare the predicted labels with the true labels (y_test) and compute the accuracy\n",
    "accuracy = accuracy_score(y_test, y_pred)\n",
    "\n",
    "print('Accuracy on test data:', accuracy)\n"
   ]
  },
  {
   "cell_type": "code",
   "execution_count": 61,
   "id": "d5617493",
   "metadata": {},
   "outputs": [
    {
     "name": "stdout",
     "output_type": "stream",
     "text": [
      "Accuracy: 0.9878044879631362\n",
      "Precision: 0.9769731437896063\n",
      "Recall: 0.9878044879631362\n",
      "F1-score: 0.9823589605851899\n"
     ]
    },
    {
     "name": "stderr",
     "output_type": "stream",
     "text": [
      "/Users/anshujlayan/opt/anaconda3/lib/python3.9/site-packages/sklearn/metrics/_classification.py:1318: UndefinedMetricWarning: Precision and F-score are ill-defined and being set to 0.0 in labels with no predicted samples. Use `zero_division` parameter to control this behavior.\n",
      "  _warn_prf(average, modifier, msg_start, len(result))\n",
      "/Users/anshujlayan/opt/anaconda3/lib/python3.9/site-packages/sklearn/metrics/_classification.py:1318: UndefinedMetricWarning: Recall and F-score are ill-defined and being set to 0.0 in labels with no true samples. Use `zero_division` parameter to control this behavior.\n",
      "  _warn_prf(average, modifier, msg_start, len(result))\n"
     ]
    }
   ],
   "source": [
    "precision, recall, f1_score, _ = precision_recall_fscore_support(y_test, y_pred, average='weighted')\n",
    "\n",
    "print(\"Accuracy:\", accuracy)\n",
    "print(\"Precision:\", precision)\n",
    "print(\"Recall:\", recall)\n",
    "print(\"F1-score:\", f1_score)"
   ]
  },
  {
   "cell_type": "code",
   "execution_count": 62,
   "id": "6678c218",
   "metadata": {},
   "outputs": [
    {
     "data": {
      "image/png": "[encoded data removed]",
      "text/plain": [
       "<Figure size 800x800 with 2 Axes>"
      ]
     },
     "metadata": {},
     "output_type": "display_data"
    }
   ],
   "source": [
    "import numpy as np\n",
    "import matplotlib.pyplot as plt\n",
    "from sklearn.metrics import confusion_matrix\n",
    "\n",
    "# assuming \"y_test\" and \"y_pred\" are the ground truth labels and predicted labels, respectively\n",
    "cm = confusion_matrix(y_test, y_pred)\n",
    "\n",
    "# define class labels\n",
    "class_names = ['Benign', 'Brute Force', 'SQL Injection']\n",
    "\n",
    "# plot the confusion matrix\n",
    "plt.figure(figsize=(8, 8))\n",
    "plt.imshow(cm, interpolation='nearest', cmap=plt.cm.Blues)\n",
    "plt.title('Confusion Matrix')\n",
    "plt.colorbar()\n",
    "tick_marks = np.arange(len(class_names))\n",
    "plt.xticks(tick_marks, class_names, rotation=45)\n",
    "plt.yticks(tick_marks, class_names)\n",
    "\n",
    "# plot the text annotations\n",
    "thresh = cm.max() / 2.\n",
    "for i, j in np.ndindex(cm.shape):\n",
    "    plt.text(j, i, format(cm[i, j], 'd'),\n",
    "             horizontalalignment=\"center\",\n",
    "             color=\"white\" if cm[i, j] > thresh else \"black\")\n",
    "\n",
    "plt.tight_layout()\n",
    "plt.ylabel('True Label')\n",
    "plt.xlabel('Predicted Label')\n",
    "plt.show()\n"
   ]
  },
  {
   "cell_type": "code",
   "execution_count": null,
   "id": "d001be48",
   "metadata": {},
   "outputs": [],
   "source": []
  },
  {
   "cell_type": "code",
   "execution_count": 1,
   "id": "0f6223c1",
   "metadata": {},
   "outputs": [
    {
     "name": "stdout",
     "output_type": "stream",
     "text": [
      "3.9.13 (main, Aug 25 2022, 18:29:29) \n",
      "[Clang 12.0.0 ]\n"
     ]
    }
   ],
   "source": [
    "import sys\n",
    "print(sys.version)\n"
   ]
  },
  {
   "cell_type": "code",
   "execution_count": 2,
   "id": "6e49ab90",
   "metadata": {},
   "outputs": [
    {
     "name": "stdout",
     "output_type": "stream",
     "text": [
      "['/Users/anshujlayan/Documents/GitHub/netwok_anomaly_detection', '/Users/anshujlayan/opt/anaconda3/lib/python39.zip', '/Users/anshujlayan/opt/anaconda3/lib/python3.9', '/Users/anshujlayan/opt/anaconda3/lib/python3.9/lib-dynload', '', '/Users/anshujlayan/opt/anaconda3/lib/python3.9/site-packages', '/Users/anshujlayan/opt/anaconda3/lib/python3.9/site-packages/aeosa', '/Users/anshujlayan/opt/anaconda3/lib/python3.9/site-packages/IPython/extensions', '/Users/anshujlayan/.ipython']\n"
     ]
    }
   ],
   "source": [
    "import sys\n",
    "print(sys.path)\n"
   ]
  },
  {
   "cell_type": "markdown",
   "id": "11dd50d1",
   "metadata": {},
   "source": [
    "# XGBoost"
   ]
  },
  {
   "cell_type": "code",
   "execution_count": 55,
   "id": "b23ffbc7",
   "metadata": {},
   "outputs": [
    {
     "name": "stdout",
     "output_type": "stream",
     "text": [
      "Accuracy: 0.9995726253059615\n"
     ]
    }
   ],
   "source": [
    "from sklearn.model_selection import train_test_split\n",
    "import xgboost as xgb\n",
    "from sklearn.metrics import accuracy_score\n",
    "import numpy as np\n",
    "\n",
    "# assuming \"data\" is your dataset and \"label\" is the column containing the labels\n",
    "X = data.drop('Label', axis=1)\n",
    "y = data['Label']\n",
    "\n",
    "# Convert custom class labels to a consecutive range starting from 0\n",
    "custom_labels = [0, 2, 5]\n",
    "label_mapping = {label: idx for idx, label in enumerate(custom_labels)}\n",
    "y = np.array([label_mapping[label] for label in y])\n",
    "\n",
    "# split the dataset into training and testing sets with a 70:30 ratio\n",
    "X_train, X_test, y_train, y_test = train_test_split(X, y, test_size=0.2, random_state=42)\n",
    "\n",
    "# create an XGBoost classifier\n",
    "clf = xgb.XGBClassifier()\n",
    "\n",
    "# train the classifier on the \"train\" dataset\n",
    "clf.fit(X_train, y_train)\n",
    "\n",
    "# predict the labels of the \"test\" dataset using the trained classifier\n",
    "y_pred = clf.predict(X_test)\n",
    "\n",
    "# convert predicted labels back to the original custom class labels\n",
    "y_pred = np.array([custom_labels[label] for label in y_pred])\n",
    "\n",
    "# evaluate the performance of the classifier on the \"test\" dataset using accuracy score\n",
    "accuracy = accuracy_score(y_test, y_pred)\n",
    "print(\"Accuracy:\", accuracy)\n"
   ]
  },
  {
   "cell_type": "code",
   "execution_count": null,
   "id": "d89a7c16",
   "metadata": {},
   "outputs": [],
   "source": []
  },
  {
   "cell_type": "code",
   "execution_count": null,
   "id": "9b1ecfb9",
   "metadata": {},
   "outputs": [],
   "source": []
  },
  {
   "cell_type": "code",
   "execution_count": null,
   "id": "602cac89",
   "metadata": {},
   "outputs": [],
   "source": []
  },
  {
   "cell_type": "code",
   "execution_count": 6,
   "id": "b13f236a",
   "metadata": {},
   "outputs": [
    {
     "name": "stdout",
     "output_type": "stream",
     "text": [
      "Requirement already satisfied: numpy in /Users/anshujlayan/opt/anaconda3/lib/python3.9/site-packages (1.21.5)\n",
      "Requirement already satisfied: pandas in /Users/anshujlayan/opt/anaconda3/lib/python3.9/site-packages (1.4.4)\n",
      "Requirement already satisfied: scikit-learn in /Users/anshujlayan/opt/anaconda3/lib/python3.9/site-packages (1.0.2)\n",
      "Requirement already satisfied: matplotlib in /Users/anshujlayan/opt/anaconda3/lib/python3.9/site-packages (3.5.2)\n",
      "Requirement already satisfied: seaborn in /Users/anshujlayan/opt/anaconda3/lib/python3.9/site-packages (0.11.2)\n",
      "Requirement already satisfied: xgboost in /Users/anshujlayan/opt/anaconda3/lib/python3.9/site-packages (1.7.5)\n",
      "Requirement already satisfied: python-dateutil>=2.8.1 in /Users/anshujlayan/opt/anaconda3/lib/python3.9/site-packages (from pandas) (2.8.2)\n",
      "Requirement already satisfied: pytz>=2020.1 in /Users/anshujlayan/opt/anaconda3/lib/python3.9/site-packages (from pandas) (2022.1)\n",
      "Requirement already satisfied: scipy>=1.1.0 in /Users/anshujlayan/opt/anaconda3/lib/python3.9/site-packages (from scikit-learn) (1.9.1)\n",
      "Requirement already satisfied: threadpoolctl>=2.0.0 in /Users/anshujlayan/opt/anaconda3/lib/python3.9/site-packages (from scikit-learn) (2.2.0)\n",
      "Requirement already satisfied: joblib>=0.11 in /Users/anshujlayan/opt/anaconda3/lib/python3.9/site-packages (from scikit-learn) (1.2.0)\n",
      "Requirement already satisfied: pillow>=6.2.0 in /Users/anshujlayan/opt/anaconda3/lib/python3.9/site-packages (from matplotlib) (9.2.0)\n",
      "Requirement already satisfied: kiwisolver>=1.0.1 in /Users/anshujlayan/opt/anaconda3/lib/python3.9/site-packages (from matplotlib) (1.4.2)\n",
      "Requirement already satisfied: cycler>=0.10 in /Users/anshujlayan/opt/anaconda3/lib/python3.9/site-packages (from matplotlib) (0.11.0)\n",
      "Requirement already satisfied: pyparsing>=2.2.1 in /Users/anshujlayan/opt/anaconda3/lib/python3.9/site-packages (from matplotlib) (3.0.9)\n",
      "Requirement already satisfied: packaging>=20.0 in /Users/anshujlayan/opt/anaconda3/lib/python3.9/site-packages (from matplotlib) (21.3)\n",
      "Requirement already satisfied: fonttools>=4.22.0 in /Users/anshujlayan/opt/anaconda3/lib/python3.9/site-packages (from matplotlib) (4.25.0)\n",
      "Requirement already satisfied: six>=1.5 in /Users/anshujlayan/opt/anaconda3/lib/python3.9/site-packages (from python-dateutil>=2.8.1->pandas) (1.16.0)\n"
     ]
    }
   ],
   "source": [
    "!/Users/anshujlayan/opt/anaconda3/bin/python -m pip install numpy pandas scikit-learn matplotlib seaborn xgboost\n"
   ]
  },
  {
   "cell_type": "code",
   "execution_count": 7,
   "id": "1ed69149",
   "metadata": {},
   "outputs": [
    {
     "name": "stdout",
     "output_type": "stream",
     "text": [
      "/Users/anshujlayan/opt/anaconda3/bin/python\n"
     ]
    }
   ],
   "source": [
    "import sys\n",
    "print(sys.executable)\n"
   ]
  },
  {
   "cell_type": "code",
   "execution_count": 8,
   "id": "7fc8e0ff",
   "metadata": {},
   "outputs": [
    {
     "name": "stdout",
     "output_type": "stream",
     "text": [
      "3.9.13 (main, Aug 25 2022, 18:29:29) \n",
      "[Clang 12.0.0 ]\n"
     ]
    }
   ],
   "source": [
    "import sys\n",
    "print(sys.version)\n"
   ]
  },
  {
   "cell_type": "code",
   "execution_count": 9,
   "id": "c1557d38",
   "metadata": {},
   "outputs": [
    {
     "name": "stdout",
     "output_type": "stream",
     "text": [
      "Requirement already satisfied: xgboost in /Library/Frameworks/Python.framework/Versions/3.9/lib/python3.9/site-packages (1.7.5)\n",
      "Requirement already satisfied: numpy in /Library/Frameworks/Python.framework/Versions/3.9/lib/python3.9/site-packages (from xgboost) (1.24.2)\n",
      "Requirement already satisfied: scipy in /Library/Frameworks/Python.framework/Versions/3.9/lib/python3.9/site-packages (from xgboost) (1.10.1)\n"
     ]
    }
   ],
   "source": [
    "!pip3 install xgboost"
   ]
  },
  {
   "cell_type": "code",
   "execution_count": 10,
   "id": "6afd5dce",
   "metadata": {},
   "outputs": [],
   "source": [
    "import xgboost as xgb"
   ]
  },
  {
   "cell_type": "code",
   "execution_count": null,
   "id": "1415ba92",
   "metadata": {},
   "outputs": [],
   "source": []
  },
  {
   "cell_type": "code",
   "execution_count": null,
   "id": "376d443a",
   "metadata": {},
   "outputs": [],
   "source": []
  },
  {
   "cell_type": "code",
   "execution_count": null,
   "id": "542b9c4b",
   "metadata": {},
   "outputs": [],
   "source": []
  },
  {
   "cell_type": "code",
   "execution_count": null,
   "id": "2eff5c36",
   "metadata": {},
   "outputs": [],
   "source": []
  },
  {
   "cell_type": "code",
   "execution_count": null,
   "id": "a4fd072e",
   "metadata": {},
   "outputs": [],
   "source": []
  },
  {
   "cell_type": "code",
   "execution_count": null,
   "id": "f02063b6",
   "metadata": {},
   "outputs": [],
   "source": []
  },
  {
   "cell_type": "code",
   "execution_count": 78,
   "id": "4cb93ceb",
   "metadata": {},
   "outputs": [],
   "source": [
    "df = day_6.sample(frac=0.01, random_state=42)"
   ]
  },
  {
   "cell_type": "code",
   "execution_count": 45,
   "id": "51d8fc99",
   "metadata": {},
   "outputs": [
    {
     "ename": "NameError",
     "evalue": "name 'df' is not defined",
     "output_type": "error",
     "traceback": [
      "\u001b[0;31m---------------------------------------------------------------------------\u001b[0m",
      "\u001b[0;31mNameError\u001b[0m                                 Traceback (most recent call last)",
      "\u001b[0;32m/var/folders/7t/6qs561wj79vg29_cgy74ngwh0000gn/T/ipykernel_5670/3216768598.py\u001b[0m in \u001b[0;36m<module>\u001b[0;34m\u001b[0m\n\u001b[1;32m      2\u001b[0m \u001b[0;34m\u001b[0m\u001b[0m\n\u001b[1;32m      3\u001b[0m \u001b[0;31m# Split the dataset into features and target variable\u001b[0m\u001b[0;34m\u001b[0m\u001b[0;34m\u001b[0m\u001b[0m\n\u001b[0;32m----> 4\u001b[0;31m \u001b[0mX\u001b[0m \u001b[0;34m=\u001b[0m \u001b[0mdf\u001b[0m\u001b[0;34m.\u001b[0m\u001b[0mdrop\u001b[0m\u001b[0;34m(\u001b[0m\u001b[0;34m'Label'\u001b[0m\u001b[0;34m,\u001b[0m \u001b[0maxis\u001b[0m\u001b[0;34m=\u001b[0m\u001b[0;36m1\u001b[0m\u001b[0;34m)\u001b[0m\u001b[0;34m\u001b[0m\u001b[0;34m\u001b[0m\u001b[0m\n\u001b[0m\u001b[1;32m      5\u001b[0m \u001b[0my\u001b[0m \u001b[0;34m=\u001b[0m \u001b[0mdf\u001b[0m\u001b[0;34m[\u001b[0m\u001b[0;34m'Label'\u001b[0m\u001b[0;34m]\u001b[0m\u001b[0;34m\u001b[0m\u001b[0;34m\u001b[0m\u001b[0m\n\u001b[1;32m      6\u001b[0m \u001b[0;34m\u001b[0m\u001b[0m\n",
      "\u001b[0;31mNameError\u001b[0m: name 'df' is not defined"
     ]
    }
   ],
   "source": [
    "from imblearn.combine import SMOTETomek\n",
    "\n",
    "# Split the dataset into features and target variable\n",
    "X = df.drop('Label', axis=1)\n",
    "y = df['Label']\n",
    "\n",
    "# Create a SMOTETomek object\n",
    "smote_tomek = SMOTETomek(random_state=42, sampling_strategy='minority', k_neighbors_ratio=0.5)\n",
    "\n",
    "# Apply SMOTE-Tomek to the dataset\n",
    "X_resampled, y_resampled = smote_tomek.fit_resample(X, y)\n",
    "\n",
    "# Concatenate the resampled data into a new DataFrame\n",
    "resampled_df = pd.concat([pd.DataFrame(X_resampled), pd.Series(y_resampled)], axis=1)\n",
    "resampled_df.columns = df.columns\n",
    "\n",
    "# Print the value counts of the target variable in the resampled data\n",
    "print(resampled_df['Label'].value_counts())\n",
    "\n"
   ]
  },
  {
   "cell_type": "code",
   "execution_count": null,
   "id": "7233b964",
   "metadata": {},
   "outputs": [],
   "source": []
  },
  {
   "cell_type": "code",
   "execution_count": null,
   "id": "17996ac4",
   "metadata": {},
   "outputs": [],
   "source": []
  },
  {
   "cell_type": "code",
   "execution_count": null,
   "id": "850f6de6",
   "metadata": {},
   "outputs": [],
   "source": []
  },
  {
   "cell_type": "code",
   "execution_count": 100,
   "id": "300b314d",
   "metadata": {},
   "outputs": [
    {
     "name": "stdout",
     "output_type": "stream",
     "text": [
      "Accuracy: 0.9913502109704642\n"
     ]
    }
   ],
   "source": [
    "from sklearn.model_selection import train_test_split\n",
    "from sklearn.tree import DecisionTreeClassifier\n",
    "from sklearn.ensemble import AdaBoostClassifier\n",
    "from sklearn.metrics import accuracy_score\n",
    "\n",
    "# assuming \"data\" is your dataset and \"label\" is the column containing the labels\n",
    "X = data1.drop('Label', axis=1)\n",
    "y = data1['Label']\n",
    "\n",
    "# split the dataset into training and testing sets with a 70:30 ratio\n",
    "X_train, X_test, y_train, y_test = train_test_split(X, y, test_size=0.2, random_state=42)\n",
    "\n",
    "# create an AdaBoostClassifier with decision tree as the base estimator\n",
    "newModel = AdaBoostClassifier(n_estimators=50, base_estimator=DecisionTreeClassifier())\n",
    "\n",
    "# train the classifier on the \"train\" dataset\n",
    "newModel.fit(X_train, y_train)\n",
    "\n",
    "# predict the labels of the \"test\" dataset using the trained classifier\n",
    "y_pred = newModel.predict(X_test)\n",
    "\n",
    "# evaluate the performance of the classifier on the \"test\" dataset using accuracy score\n",
    "accuracy = accuracy_score(y_test, y_pred)\n",
    "print(\"Accuracy:\", accuracy)"
   ]
  },
  {
   "cell_type": "code",
   "execution_count": 117,
   "id": "a3157d07",
   "metadata": {},
   "outputs": [
    {
     "name": "stdout",
     "output_type": "stream",
     "text": [
      "              precision    recall  f1-score   support\n",
      "\n",
      "           0     0.9925    0.9983    0.9954   2688282\n",
      "           1     0.9999    0.9992    0.9995     56613\n",
      "           2     0.9999    0.9963    0.9981     31550\n",
      "           3     1.0000    0.9998    0.9999    350965\n",
      "           4     0.7324    0.3853    0.5050     32524\n",
      "           5     0.5000    0.0476    0.0870        21\n",
      "\n",
      "    accuracy                         0.9921   3159955\n",
      "   macro avg     0.8708    0.7378    0.7641   3159955\n",
      "weighted avg     0.9909    0.9921    0.9909   3159955\n",
      "\n"
     ]
    }
   ],
   "source": [
    "from sklearn.metrics import classification_report\n",
    "\n",
    "print(classification_report(y_test, y_pred, digits=4))"
   ]
  },
  {
   "cell_type": "code",
   "execution_count": null,
   "id": "43afea00",
   "metadata": {},
   "outputs": [],
   "source": [
    "# day_1 = pd.read_csv(\"train/02-14-2018_clean.csv\")\n",
    "# day_2 = pd.read_csv(\"train/02-15-2018_clean.csv\")\n",
    "# day_3 = pd.read_csv(\"train/02-16-2018_clean.csv\")\n",
    "# day_4 = pd.read_csv(\"train/02-20-2018_clean.csv\")\n",
    "# day_5 = pd.read_csv(\"train/02-21-2018_clean.csv\")\n",
    "# day_8 = pd.read_csv(\"train/02-28-2018_clean.csv\")\n",
    "# day_9 = pd.read_csv(\"train/03-01-2018_clean.csv\")\n",
    "# day_10 = pd.read_csv(\"train/03-02-2018_clean.csv\")"
   ]
  }
 ],
 "metadata": {
  "kernelspec": {
   "display_name": "Python 3 (ipykernel)",
   "language": "python",
   "name": "python3"
  },
  "language_info": {
   "codemirror_mode": {
    "name": "ipython",
    "version": 3
   },
   "file_extension": ".py",
   "mimetype": "text/x-python",
   "name": "python",
   "nbconvert_exporter": "python",
   "pygments_lexer": "ipython3",
   "version": "3.9.13"
  }
 },
 "nbformat": 4,
 "nbformat_minor": 5
}
