{
 "cells": [
  {
   "cell_type": "markdown",
   "id": "08285f80",
   "metadata": {},
   "source": [
    "# Technique"
   ]
  },
  {
   "cell_type": "markdown",
   "id": "10ffd1cd",
   "metadata": {},
   "source": [
    "## Import data of day 6 & 7"
   ]
  },
  {
   "cell_type": "code",
   "execution_count": null,
   "id": "1637d59b",
   "metadata": {},
   "outputs": [],
   "source": [
    "import pandas as pd\n",
    "day_6 = pd.read_csv('train/02-22-2018_clean.csv')\n",
    "day_7 = pd.read_csv('train/02-23-2018_clean.csv')"
   ]
  },
  {
   "cell_type": "markdown",
   "id": "002a1874",
   "metadata": {},
   "source": [
    "## Apply SMOTE"
   ]
  },
  {
   "cell_type": "markdown",
   "id": "b368d719",
   "metadata": {},
   "source": [
    "### day 6"
   ]
  },
  {
   "cell_type": "code",
   "execution_count": null,
   "id": "d7ac4f0c",
   "metadata": {},
   "outputs": [],
   "source": []
  },
  {
   "cell_type": "markdown",
   "id": "75102966",
   "metadata": {},
   "source": [
    "### day 7"
   ]
  },
  {
   "cell_type": "code",
   "execution_count": null,
   "id": "3febb007",
   "metadata": {},
   "outputs": [],
   "source": []
  },
  {
   "cell_type": "markdown",
   "id": "0c753735",
   "metadata": {},
   "source": [
    "### concatenate data"
   ]
  },
  {
   "cell_type": "code",
   "execution_count": null,
   "id": "7783f985",
   "metadata": {},
   "outputs": [],
   "source": [
    "data = pd.concat([day_6, day_7], ignore_index=True)"
   ]
  },
  {
   "cell_type": "markdown",
   "id": "9f666d82",
   "metadata": {},
   "source": [
    "## Applying ML technique X"
   ]
  },
  {
   "cell_type": "code",
   "execution_count": null,
   "id": "52585c6f",
   "metadata": {},
   "outputs": [],
   "source": []
  },
  {
   "cell_type": "markdown",
   "id": "252e975a",
   "metadata": {},
   "source": [
    "## Model evaluation"
   ]
  },
  {
   "cell_type": "markdown",
   "id": "3d167fc0",
   "metadata": {},
   "source": [
    "### Confusion matrix"
   ]
  },
  {
   "cell_type": "code",
   "execution_count": null,
   "id": "b4de2afc",
   "metadata": {},
   "outputs": [],
   "source": []
  },
  {
   "cell_type": "markdown",
   "id": "0e3fb0af",
   "metadata": {},
   "source": [
    "### Accuracy,  Precision, Recall, F1-score"
   ]
  },
  {
   "cell_type": "code",
   "execution_count": null,
   "id": "116132d0",
   "metadata": {},
   "outputs": [],
   "source": []
  },
  {
   "cell_type": "markdown",
   "id": "f6aaae63",
   "metadata": {},
   "source": [
    "### Confusion matrix visualized"
   ]
  },
  {
   "cell_type": "code",
   "execution_count": null,
   "id": "6e1124f4",
   "metadata": {},
   "outputs": [],
   "source": []
  },
  {
   "cell_type": "markdown",
   "id": "0ed79b07",
   "metadata": {},
   "source": [
    "## Save oversampled dataset"
   ]
  },
  {
   "cell_type": "code",
   "execution_count": null,
   "id": "c002e435",
   "metadata": {},
   "outputs": [],
   "source": []
  },
  {
   "cell_type": "markdown",
   "id": "0ea46daa",
   "metadata": {},
   "source": [
    "## Save ML Model"
   ]
  },
  {
   "cell_type": "code",
   "execution_count": null,
   "id": "49a58909",
   "metadata": {},
   "outputs": [],
   "source": []
  },
  {
   "cell_type": "markdown",
   "id": "2b558fa8",
   "metadata": {},
   "source": [
    "## Conclusion"
   ]
  },
  {
   "cell_type": "code",
   "execution_count": null,
   "id": "61a5637f",
   "metadata": {},
   "outputs": [],
   "source": []
  }
 ],
 "metadata": {
  "kernelspec": {
   "display_name": "Python 3 (ipykernel)",
   "language": "python",
   "name": "python3"
  },
  "language_info": {
   "codemirror_mode": {
    "name": "ipython",
    "version": 3
   },
   "file_extension": ".py",
   "mimetype": "text/x-python",
   "name": "python",
   "nbconvert_exporter": "python",
   "pygments_lexer": "ipython3",
   "version": "3.9.13"
  }
 },
 "nbformat": 4,
 "nbformat_minor": 5
}
