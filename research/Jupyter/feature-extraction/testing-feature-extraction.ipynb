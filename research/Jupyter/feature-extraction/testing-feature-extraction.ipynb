{
 "cells": [
  {
   "cell_type": "code",
   "execution_count": 1,
   "id": "b41116db",
   "metadata": {
    "_cell_guid": "b1076dfc-b9ad-4769-8c92-a6c4dae69d19",
    "_uuid": "8f2839f25d086af736a60e9eeb907d3b93b6e0e5",
    "execution": {
     "iopub.execute_input": "2023-08-25T19:38:43.199971Z",
     "iopub.status.busy": "2023-08-25T19:38:43.199242Z",
     "iopub.status.idle": "2023-08-25T19:38:43.223601Z",
     "shell.execute_reply": "2023-08-25T19:38:43.222734Z"
    },
    "papermill": {
     "duration": 0.032316,
     "end_time": "2023-08-25T19:38:43.225724",
     "exception": false,
     "start_time": "2023-08-25T19:38:43.193408",
     "status": "completed"
    },
    "tags": []
   },
   "outputs": [
    {
     "name": "stdout",
     "output_type": "stream",
     "text": [
      "/kaggle/input/clean-cic-ids-2018/test/test.csv\n",
      "/kaggle/input/clean-cic-ids-2018/train/03-01-2018_clean.csv\n",
      "/kaggle/input/clean-cic-ids-2018/train/02-22-2018_clean.csv\n",
      "/kaggle/input/clean-cic-ids-2018/train/02-21-2018_clean.csv\n",
      "/kaggle/input/clean-cic-ids-2018/train/02-23-2018_clean.csv\n",
      "/kaggle/input/clean-cic-ids-2018/train/02-15-2018_clean.csv\n",
      "/kaggle/input/clean-cic-ids-2018/train/02-28-2018_clean.csv\n",
      "/kaggle/input/clean-cic-ids-2018/train/02-16-2018_clean.csv\n",
      "/kaggle/input/clean-cic-ids-2018/train/03-02-2018_clean.csv\n",
      "/kaggle/input/clean-cic-ids-2018/train/02-14-2018_clean.csv\n",
      "/kaggle/input/clean-cic-ids-2018/train/02-20-2018_clean.csv\n"
     ]
    }
   ],
   "source": [
    "# This Python 3 environment comes with many helpful analytics libraries installed\n",
    "# It is defined by the kaggle/python Docker image: https://github.com/kaggle/docker-python\n",
    "# For example, here's several helpful packages to load\n",
    "\n",
    "import numpy as np # linear algebra\n",
    "import pandas as pd # data processing, CSV file I/O (e.g. pd.read_csv)\n",
    "\n",
    "# Input data files are available in the read-only \"../input/\" directory\n",
    "# For example, running this (by clicking run or pressing Shift+Enter) will list all files under the input directory\n",
    "\n",
    "import os\n",
    "for dirname, _, filenames in os.walk('/kaggle/input'):\n",
    "    for filename in filenames:\n",
    "        print(os.path.join(dirname, filename))\n",
    "\n",
    "# You can write up to 20GB to the current directory (/kaggle/working/) that gets preserved as output when you create a version using \"Save & Run All\" \n",
    "# You can also write temporary files to /kaggle/temp/, but they won't be saved outside of the current session"
   ]
  },
  {
   "cell_type": "code",
   "execution_count": 2,
   "id": "7bb83df5",
   "metadata": {
    "execution": {
     "iopub.execute_input": "2023-08-25T19:38:43.234797Z",
     "iopub.status.busy": "2023-08-25T19:38:43.234060Z",
     "iopub.status.idle": "2023-08-25T19:40:24.635396Z",
     "shell.execute_reply": "2023-08-25T19:40:24.633979Z"
    },
    "papermill": {
     "duration": 101.411419,
     "end_time": "2023-08-25T19:40:24.640856",
     "exception": false,
     "start_time": "2023-08-25T19:38:43.229437",
     "status": "completed"
    },
    "tags": []
   },
   "outputs": [
    {
     "name": "stdout",
     "output_type": "stream",
     "text": [
      "(12639793, 71)\n"
     ]
    }
   ],
   "source": [
    "# Define the list of file names\n",
    "file_names = [\n",
    "    \"/kaggle/input/clean-cic-ids-2018/train/02-14-2018_clean.csv\",\n",
    "    \"/kaggle/input/clean-cic-ids-2018/train/02-15-2018_clean.csv\",\n",
    "    \"/kaggle/input/clean-cic-ids-2018/train/02-16-2018_clean.csv\",\n",
    "    \"/kaggle/input/clean-cic-ids-2018/train/02-20-2018_clean.csv\",\n",
    "    \"/kaggle/input/clean-cic-ids-2018/train/02-21-2018_clean.csv\",\n",
    "    \"/kaggle/input/clean-cic-ids-2018/train/02-22-2018_clean.csv\",\n",
    "    \"/kaggle/input/clean-cic-ids-2018/train/02-23-2018_clean.csv\",\n",
    "    \"/kaggle/input/clean-cic-ids-2018/train/02-28-2018_clean.csv\",\n",
    "    \"/kaggle/input/clean-cic-ids-2018/train/03-01-2018_clean.csv\",\n",
    "    \"/kaggle/input/clean-cic-ids-2018/train/03-02-2018_clean.csv\"\n",
    "]\n",
    "\n",
    "# Initialize an empty list to store the DataFrames\n",
    "dfs = []\n",
    "\n",
    "# Loop through the file names and read each file as a DataFrame\n",
    "for file_name in file_names:\n",
    "    df = pd.read_csv(file_name)\n",
    "    dfs.append(df)\n",
    "\n",
    "# Concatenate the DataFrames into a single DataFrame\n",
    "df = pd.concat(dfs, ignore_index=True)\n",
    "\n",
    "# Print the shape of the combined DataFrame\n",
    "print(df.shape)"
   ]
  },
  {
   "cell_type": "code",
   "execution_count": 3,
   "id": "b877f05a",
   "metadata": {
    "execution": {
     "iopub.execute_input": "2023-08-25T19:40:24.650244Z",
     "iopub.status.busy": "2023-08-25T19:40:24.649026Z",
     "iopub.status.idle": "2023-08-25T19:40:49.653461Z",
     "shell.execute_reply": "2023-08-25T19:40:49.651758Z"
    },
    "papermill": {
     "duration": 25.011647,
     "end_time": "2023-08-25T19:40:49.656001",
     "exception": false,
     "start_time": "2023-08-25T19:40:24.644354",
     "status": "completed"
    },
    "tags": []
   },
   "outputs": [
    {
     "name": "stdout",
     "output_type": "stream",
     "text": [
      "(3159955, 71)\n"
     ]
    }
   ],
   "source": [
    "test = pd.read_csv(\"/kaggle/input/clean-cic-ids-2018/test/test.csv\", index_col=False)\n",
    "test = test.drop(columns='Unnamed: 0')\n",
    "print(test.shape)"
   ]
  },
  {
   "cell_type": "code",
   "execution_count": 4,
   "id": "07e55bc5",
   "metadata": {
    "execution": {
     "iopub.execute_input": "2023-08-25T19:40:49.665555Z",
     "iopub.status.busy": "2023-08-25T19:40:49.664888Z",
     "iopub.status.idle": "2023-08-25T19:40:49.670603Z",
     "shell.execute_reply": "2023-08-25T19:40:49.669695Z"
    },
    "papermill": {
     "duration": 0.012917,
     "end_time": "2023-08-25T19:40:49.672828",
     "exception": false,
     "start_time": "2023-08-25T19:40:49.659911",
     "status": "completed"
    },
    "tags": []
   },
   "outputs": [],
   "source": [
    "#defining feature lists\n",
    "feature_list1 = [\n",
    "    \"Dst Port\",\n",
    "    \"Fwd Header Len\",\n",
    "    \"Fwd IAT Tot\",\n",
    "    \"TotLen Fwd Pkts\",\n",
    "    \"Bwd Pkts/s\",\n",
    "    \"Init Fwd Win Byts\",\n",
    "    \"Flow IAT Max\",\n",
    "    \"Init Bwd Win Byts\",\n",
    "    \"Flow IAT Mean\",\n",
    "    \"Fwd IAT Min\",\n",
    "    \"Fwd Pkts/s\",\n",
    "    \"Fwd IAT Mean\",\n",
    "    \"Subflow Fwd Byts\",\n",
    "    \"Fwd IAT Max\",\n",
    "    \"Date\",\n",
    "    \"Time\"\n",
    "]\n",
    "\n",
    "feature_list2 = [\n",
    "    \"Dst Port\",\n",
    "    \"TotLen Fwd Pkts\",\n",
    "    \"Fwd Pkt Len Max\",\n",
    "    \"Init Fwd Win Byts\",\n",
    "    \"Flow IAT Max\",\n",
    "    \"Init Bwd Win Byts\",\n",
    "    \"Fwd Seg Size Min\",\n",
    "    \"Subflow Fwd Byts\",\n",
    "    \"Fwd IAT Min\",\n",
    "    \"Fwd Pkts/s\",\n",
    "    \"Fwd IAT Mean\",\n",
    "    \"Fwd IAT Max\",\n",
    "    \"Fwd Header Len\",\n",
    "    \"Bwd Pkts/s\",\n",
    "    \"Fwd IAT Tot\",\n",
    "    \"Bwd Header Len\",\n",
    "    \"Bwd IAT Max\",\n",
    "    \"Pkt Len Var\",\n",
    "    \"Flow IAT Mean\",\n",
    "    \"Bwd IAT Tot\",\n",
    "    \"Date\",\n",
    "    \"Flow Duration\",\n",
    "    \"Time\"\n",
    "]"
   ]
  },
  {
   "cell_type": "code",
   "execution_count": 5,
   "id": "12d6909a",
   "metadata": {
    "execution": {
     "iopub.execute_input": "2023-08-25T19:40:49.681410Z",
     "iopub.status.busy": "2023-08-25T19:40:49.681050Z",
     "iopub.status.idle": "2023-08-25T19:40:51.040361Z",
     "shell.execute_reply": "2023-08-25T19:40:51.039347Z"
    },
    "papermill": {
     "duration": 1.36685,
     "end_time": "2023-08-25T19:40:51.043232",
     "exception": false,
     "start_time": "2023-08-25T19:40:49.676382",
     "status": "completed"
    },
    "tags": []
   },
   "outputs": [],
   "source": [
    "cols_to_drop1 = [col for col in df.columns if col not in feature_list1 and col != 'Label']\n",
    "df.drop(cols_to_drop1, axis=1, inplace=True)\n",
    "test.drop(cols_to_drop1, axis=1, inplace=True)\n",
    "\n",
    "cols_to_drop2 = [col for col in df.columns if col not in feature_list2 and col != 'Label']\n",
    "df.drop(cols_to_drop2, axis=1, inplace=True)\n",
    "test.drop(cols_to_drop2, axis=1, inplace=True)"
   ]
  },
  {
   "cell_type": "code",
   "execution_count": 6,
   "id": "5e9524e9",
   "metadata": {
    "execution": {
     "iopub.execute_input": "2023-08-25T19:40:51.052666Z",
     "iopub.status.busy": "2023-08-25T19:40:51.052254Z",
     "iopub.status.idle": "2023-08-25T19:40:52.269828Z",
     "shell.execute_reply": "2023-08-25T19:40:52.268831Z"
    },
    "papermill": {
     "duration": 1.2253,
     "end_time": "2023-08-25T19:40:52.272280",
     "exception": false,
     "start_time": "2023-08-25T19:40:51.046980",
     "status": "completed"
    },
    "tags": []
   },
   "outputs": [],
   "source": [
    "X_train1 = df.drop('Label', axis=1)\n",
    "y_train1 = df['Label']\n",
    "X_test1 = test.drop('Label', axis=1)\n",
    "y_test1 = test['Label']\n",
    "\n",
    "X_train2 = df.drop('Label', axis=1)\n",
    "y_train2 = df['Label']\n",
    "X_test2 = test.drop('Label', axis=1)\n",
    "y_test2 = test['Label']"
   ]
  },
  {
   "cell_type": "code",
   "execution_count": 7,
   "id": "f2642535",
   "metadata": {
    "execution": {
     "iopub.execute_input": "2023-08-25T19:40:52.281347Z",
     "iopub.status.busy": "2023-08-25T19:40:52.280875Z",
     "iopub.status.idle": "2023-08-25T22:17:52.774977Z",
     "shell.execute_reply": "2023-08-25T22:17:52.771407Z"
    },
    "papermill": {
     "duration": 9420.532855,
     "end_time": "2023-08-25T22:17:52.808817",
     "exception": false,
     "start_time": "2023-08-25T19:40:52.275962",
     "status": "completed"
    },
    "tags": []
   },
   "outputs": [
    {
     "name": "stderr",
     "output_type": "stream",
     "text": [
      "/opt/conda/lib/python3.10/site-packages/scipy/__init__.py:146: UserWarning: A NumPy version >=1.16.5 and <1.23.0 is required for this version of SciPy (detected version 1.23.5\n",
      "  warnings.warn(f\"A NumPy version >={np_minversion} and <{np_maxversion}\"\n"
     ]
    },
    {
     "data": {
      "text/html": [
       "<style>#sk-container-id-1 {color: black;background-color: white;}#sk-container-id-1 pre{padding: 0;}#sk-container-id-1 div.sk-toggleable {background-color: white;}#sk-container-id-1 label.sk-toggleable__label {cursor: pointer;display: block;width: 100%;margin-bottom: 0;padding: 0.3em;box-sizing: border-box;text-align: center;}#sk-container-id-1 label.sk-toggleable__label-arrow:before {content: \"▸\";float: left;margin-right: 0.25em;color: #696969;}#sk-container-id-1 label.sk-toggleable__label-arrow:hover:before {color: black;}#sk-container-id-1 div.sk-estimator:hover label.sk-toggleable__label-arrow:before {color: black;}#sk-container-id-1 div.sk-toggleable__content {max-height: 0;max-width: 0;overflow: hidden;text-align: left;background-color: #f0f8ff;}#sk-container-id-1 div.sk-toggleable__content pre {margin: 0.2em;color: black;border-radius: 0.25em;background-color: #f0f8ff;}#sk-container-id-1 input.sk-toggleable__control:checked~div.sk-toggleable__content {max-height: 200px;max-width: 100%;overflow: auto;}#sk-container-id-1 input.sk-toggleable__control:checked~label.sk-toggleable__label-arrow:before {content: \"▾\";}#sk-container-id-1 div.sk-estimator input.sk-toggleable__control:checked~label.sk-toggleable__label {background-color: #d4ebff;}#sk-container-id-1 div.sk-label input.sk-toggleable__control:checked~label.sk-toggleable__label {background-color: #d4ebff;}#sk-container-id-1 input.sk-hidden--visually {border: 0;clip: rect(1px 1px 1px 1px);clip: rect(1px, 1px, 1px, 1px);height: 1px;margin: -1px;overflow: hidden;padding: 0;position: absolute;width: 1px;}#sk-container-id-1 div.sk-estimator {font-family: monospace;background-color: #f0f8ff;border: 1px dotted black;border-radius: 0.25em;box-sizing: border-box;margin-bottom: 0.5em;}#sk-container-id-1 div.sk-estimator:hover {background-color: #d4ebff;}#sk-container-id-1 div.sk-parallel-item::after {content: \"\";width: 100%;border-bottom: 1px solid gray;flex-grow: 1;}#sk-container-id-1 div.sk-label:hover label.sk-toggleable__label {background-color: #d4ebff;}#sk-container-id-1 div.sk-serial::before {content: \"\";position: absolute;border-left: 1px solid gray;box-sizing: border-box;top: 0;bottom: 0;left: 50%;z-index: 0;}#sk-container-id-1 div.sk-serial {display: flex;flex-direction: column;align-items: center;background-color: white;padding-right: 0.2em;padding-left: 0.2em;position: relative;}#sk-container-id-1 div.sk-item {position: relative;z-index: 1;}#sk-container-id-1 div.sk-parallel {display: flex;align-items: stretch;justify-content: center;background-color: white;position: relative;}#sk-container-id-1 div.sk-item::before, #sk-container-id-1 div.sk-parallel-item::before {content: \"\";position: absolute;border-left: 1px solid gray;box-sizing: border-box;top: 0;bottom: 0;left: 50%;z-index: -1;}#sk-container-id-1 div.sk-parallel-item {display: flex;flex-direction: column;z-index: 1;position: relative;background-color: white;}#sk-container-id-1 div.sk-parallel-item:first-child::after {align-self: flex-end;width: 50%;}#sk-container-id-1 div.sk-parallel-item:last-child::after {align-self: flex-start;width: 50%;}#sk-container-id-1 div.sk-parallel-item:only-child::after {width: 0;}#sk-container-id-1 div.sk-dashed-wrapped {border: 1px dashed gray;margin: 0 0.4em 0.5em 0.4em;box-sizing: border-box;padding-bottom: 0.4em;background-color: white;}#sk-container-id-1 div.sk-label label {font-family: monospace;font-weight: bold;display: inline-block;line-height: 1.2em;}#sk-container-id-1 div.sk-label-container {text-align: center;}#sk-container-id-1 div.sk-container {/* jupyter's `normalize.less` sets `[hidden] { display: none; }` but bootstrap.min.css set `[hidden] { display: none !important; }` so we also need the `!important` here to be able to override the default hidden behavior on the sphinx rendered scikit-learn.org. See: https://github.com/scikit-learn/scikit-learn/issues/21755 */display: inline-block !important;position: relative;}#sk-container-id-1 div.sk-text-repr-fallback {display: none;}</style><div id=\"sk-container-id-1\" class=\"sk-top-container\"><div class=\"sk-text-repr-fallback\"><pre>XGBClassifier(base_score=None, booster=None, callbacks=None,\n",
       "              colsample_bylevel=None, colsample_bynode=None,\n",
       "              colsample_bytree=None, early_stopping_rounds=None,\n",
       "              enable_categorical=False, eval_metric=None, feature_types=None,\n",
       "              gamma=None, gpu_id=None, grow_policy=None, importance_type=None,\n",
       "              interaction_constraints=None, learning_rate=None, max_bin=None,\n",
       "              max_cat_threshold=None, max_cat_to_onehot=None,\n",
       "              max_delta_step=None, max_depth=None, max_leaves=None,\n",
       "              min_child_weight=None, missing=nan, monotone_constraints=None,\n",
       "              n_estimators=100, n_jobs=-1, num_parallel_tree=None,\n",
       "              objective=&#x27;multi:softprob&#x27;, predictor=None, ...)</pre><b>In a Jupyter environment, please rerun this cell to show the HTML representation or trust the notebook. <br />On GitHub, the HTML representation is unable to render, please try loading this page with nbviewer.org.</b></div><div class=\"sk-container\" hidden><div class=\"sk-item\"><div class=\"sk-estimator sk-toggleable\"><input class=\"sk-toggleable__control sk-hidden--visually\" id=\"sk-estimator-id-1\" type=\"checkbox\" checked><label for=\"sk-estimator-id-1\" class=\"sk-toggleable__label sk-toggleable__label-arrow\">XGBClassifier</label><div class=\"sk-toggleable__content\"><pre>XGBClassifier(base_score=None, booster=None, callbacks=None,\n",
       "              colsample_bylevel=None, colsample_bynode=None,\n",
       "              colsample_bytree=None, early_stopping_rounds=None,\n",
       "              enable_categorical=False, eval_metric=None, feature_types=None,\n",
       "              gamma=None, gpu_id=None, grow_policy=None, importance_type=None,\n",
       "              interaction_constraints=None, learning_rate=None, max_bin=None,\n",
       "              max_cat_threshold=None, max_cat_to_onehot=None,\n",
       "              max_delta_step=None, max_depth=None, max_leaves=None,\n",
       "              min_child_weight=None, missing=nan, monotone_constraints=None,\n",
       "              n_estimators=100, n_jobs=-1, num_parallel_tree=None,\n",
       "              objective=&#x27;multi:softprob&#x27;, predictor=None, ...)</pre></div></div></div></div></div>"
      ],
      "text/plain": [
       "XGBClassifier(base_score=None, booster=None, callbacks=None,\n",
       "              colsample_bylevel=None, colsample_bynode=None,\n",
       "              colsample_bytree=None, early_stopping_rounds=None,\n",
       "              enable_categorical=False, eval_metric=None, feature_types=None,\n",
       "              gamma=None, gpu_id=None, grow_policy=None, importance_type=None,\n",
       "              interaction_constraints=None, learning_rate=None, max_bin=None,\n",
       "              max_cat_threshold=None, max_cat_to_onehot=None,\n",
       "              max_delta_step=None, max_depth=None, max_leaves=None,\n",
       "              min_child_weight=None, missing=nan, monotone_constraints=None,\n",
       "              n_estimators=100, n_jobs=-1, num_parallel_tree=None,\n",
       "              objective='multi:softprob', predictor=None, ...)"
      ]
     },
     "execution_count": 7,
     "metadata": {},
     "output_type": "execute_result"
    }
   ],
   "source": [
    "from xgboost import XGBClassifier\n",
    "\n",
    "# Calculate class weights\n",
    "class_weights = len(y_train1) / (6 * np.bincount(y_train1))\n",
    "\n",
    "# Create the XGBClassifier with class weights\n",
    "model1 = XGBClassifier(n_jobs=-1)\n",
    "model2 = XGBClassifier(n_jobs=-1)\n",
    "\n",
    "# Fit the model with class weights\n",
    "model1.fit(X_train1, y_train1, sample_weight=class_weights[y_train1])\n",
    "model2.fit(X_train2, y_train2, sample_weight=class_weights[y_train2])"
   ]
  },
  {
   "cell_type": "code",
   "execution_count": 8,
   "id": "4280de23",
   "metadata": {
    "execution": {
     "iopub.execute_input": "2023-08-25T22:17:52.824079Z",
     "iopub.status.busy": "2023-08-25T22:17:52.823145Z",
     "iopub.status.idle": "2023-08-25T22:18:24.148096Z",
     "shell.execute_reply": "2023-08-25T22:18:24.147228Z"
    },
    "papermill": {
     "duration": 31.341591,
     "end_time": "2023-08-25T22:18:24.155027",
     "exception": false,
     "start_time": "2023-08-25T22:17:52.813436",
     "status": "completed"
    },
    "tags": []
   },
   "outputs": [
    {
     "data": {
      "image/png": "[encoded data removed]",
      "text/plain": [
       "<Figure size 1500x600 with 4 Axes>"
      ]
     },
     "metadata": {},
     "output_type": "display_data"
    }
   ],
   "source": [
    "from sklearn.metrics import confusion_matrix\n",
    "import seaborn as sns\n",
    "import matplotlib.pyplot as plt\n",
    "\n",
    "label_names = ['Benign', 'Bot', 'Brute Force', 'Dos', 'Infiltration', 'SQL Injection']\n",
    "\n",
    "# Get predictions from the best_model\n",
    "y_pred1 = model1.predict(X_test1)\n",
    "y_pred2 = model2.predict(X_test2)\n",
    "\n",
    "# Compute confusion matrices\n",
    "cm1 = confusion_matrix(y_test1, y_pred1)\n",
    "cm2 = confusion_matrix(y_test2, y_pred2)\n",
    "\n",
    "# Create a figure with two subplots\n",
    "fig, axes = plt.subplots(1, 2, figsize=(15, 6))\n",
    "\n",
    "# Create heatmap for cm1\n",
    "sns.heatmap(cm1, annot=True, cmap=\"YlGnBu\", fmt=\"d\", ax=axes[0])\n",
    "axes[0].set_xticks(range(len(label_names)))\n",
    "axes[0].set_yticks(range(len(label_names)))\n",
    "axes[0].set_xticklabels(label_names, rotation=45, ha='right')\n",
    "axes[0].set_yticklabels(label_names, rotation=0)\n",
    "axes[0].set_title(\"Intersection\")\n",
    "axes[0].set_ylabel(\"True Class\")\n",
    "axes[0].set_xlabel(\"Predicted Class\")\n",
    "\n",
    "# Create heatmap for cm2\n",
    "sns.heatmap(cm2, annot=True, cmap=\"YlGnBu\", fmt=\"d\", ax=axes[1])\n",
    "axes[1].set_xticks(range(len(label_names)))\n",
    "axes[1].set_yticks(range(len(label_names)))\n",
    "axes[1].set_xticklabels(label_names, rotation=45, ha='right')\n",
    "axes[1].set_yticklabels(label_names, rotation=0)\n",
    "axes[1].set_title(\"Union\")\n",
    "axes[1].set_ylabel(\"True Class\")\n",
    "axes[1].set_xlabel(\"Predicted Class\")\n",
    "\n",
    "# Adjust layout\n",
    "plt.tight_layout()\n",
    "\n",
    "# Show the figure\n",
    "plt.show()"
   ]
  },
  {
   "cell_type": "code",
   "execution_count": 9,
   "id": "58caeb8b",
   "metadata": {
    "execution": {
     "iopub.execute_input": "2023-08-25T22:18:24.167338Z",
     "iopub.status.busy": "2023-08-25T22:18:24.166474Z",
     "iopub.status.idle": "2023-08-25T22:18:30.841701Z",
     "shell.execute_reply": "2023-08-25T22:18:30.840519Z"
    },
    "papermill": {
     "duration": 6.684762,
     "end_time": "2023-08-25T22:18:30.844673",
     "exception": false,
     "start_time": "2023-08-25T22:18:24.159911",
     "status": "completed"
    },
    "tags": []
   },
   "outputs": [
    {
     "name": "stdout",
     "output_type": "stream",
     "text": [
      "Model 1 Accuracy:  0.9923634988472937\n",
      "Model 1 Precision:  0.9956013587135255\n",
      "Model 1 Recall:  0.9923634988472937\n",
      "Model 1 F1 Score:  0.9933749472308391\n",
      "\n",
      "Model 2 Accuracy:  0.9923634988472937\n",
      "Model 2 Precision:  0.9956013587135255\n",
      "Model 2 Recall:  0.9923634988472937\n",
      "Model 2 F1 Score:  0.9933749472308391\n"
     ]
    }
   ],
   "source": [
    "from sklearn.metrics import precision_score, recall_score, f1_score, accuracy_score\n",
    "\n",
    "# Calculating Evaluation Metrics for Model 1\n",
    "accuracy_model1 = accuracy_score(y_test1, y_pred1)\n",
    "precision_model1 = precision_score(y_test1, y_pred1, average='weighted')\n",
    "recall_model1 = recall_score(y_test1, y_pred1, average='weighted')\n",
    "f1_model1 = f1_score(y_test1, y_pred1, average='weighted')\n",
    "\n",
    "print(\"Model 1 Accuracy: \", accuracy_model1)\n",
    "print(\"Model 1 Precision: \", precision_model1)\n",
    "print(\"Model 1 Recall: \", recall_model1)\n",
    "print(\"Model 1 F1 Score: \", f1_model1)\n",
    "print()\n",
    "\n",
    "# Calculating Evaluation Metrics for Model 2\n",
    "accuracy_model2 = accuracy_score(y_test2, y_pred2)\n",
    "precision_model2 = precision_score(y_test2, y_pred2, average='weighted')\n",
    "recall_model2 = recall_score(y_test2, y_pred2, average='weighted')\n",
    "f1_model2 = f1_score(y_test2, y_pred2, average='weighted')\n",
    "\n",
    "print(\"Model 2 Accuracy: \", accuracy_model2)\n",
    "print(\"Model 2 Precision: \", precision_model2)\n",
    "print(\"Model 2 Recall: \", recall_model2)\n",
    "print(\"Model 2 F1 Score: \", f1_model2)"
   ]
  },
  {
   "cell_type": "code",
   "execution_count": 10,
   "id": "fb0bbde1",
   "metadata": {
    "execution": {
     "iopub.execute_input": "2023-08-25T22:18:30.857021Z",
     "iopub.status.busy": "2023-08-25T22:18:30.856384Z",
     "iopub.status.idle": "2023-08-25T22:18:30.891376Z",
     "shell.execute_reply": "2023-08-25T22:18:30.890467Z"
    },
    "papermill": {
     "duration": 0.043783,
     "end_time": "2023-08-25T22:18:30.893783",
     "exception": false,
     "start_time": "2023-08-25T22:18:30.850000",
     "status": "completed"
    },
    "tags": []
   },
   "outputs": [],
   "source": [
    "import pickle\n",
    "\n",
    "Pkl_Filename1 = \"XGBoost-intersection.pkl\"\n",
    "Pkl_Filename2 = \"XGBoost-union.pkl\"\n",
    "\n",
    "with open(Pkl_Filename1, 'wb') as file:  \n",
    "    pickle.dump(model1, file)\n",
    "with open(Pkl_Filename2, 'wb') as file:  \n",
    "    pickle.dump(model2, file)"
   ]
  }
 ],
 "metadata": {
  "kernelspec": {
   "display_name": "Python 3",
   "language": "python",
   "name": "python3"
  },
  "language_info": {
   "codemirror_mode": {
    "name": "ipython",
    "version": 3
   },
   "file_extension": ".py",
   "mimetype": "text/x-python",
   "name": "python",
   "nbconvert_exporter": "python",
   "pygments_lexer": "ipython3",
   "version": "3.10.12"
  },
  "papermill": {
   "default_parameters": {},
   "duration": 9598.97923,
   "end_time": "2023-08-25T22:18:32.764022",
   "environment_variables": {},
   "exception": null,
   "input_path": "__notebook__.ipynb",
   "output_path": "__notebook__.ipynb",
   "parameters": {},
   "start_time": "2023-08-25T19:38:33.784792",
   "version": "2.4.0"
  }
 },
 "nbformat": 4,
 "nbformat_minor": 5
}
