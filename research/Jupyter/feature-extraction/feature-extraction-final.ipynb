{
 "cells": [
  {
   "cell_type": "code",
   "execution_count": 1,
   "id": "b6cb4bfb",
   "metadata": {
    "_cell_guid": "b1076dfc-b9ad-4769-8c92-a6c4dae69d19",
    "_uuid": "8f2839f25d086af736a60e9eeb907d3b93b6e0e5",
    "execution": {
     "iopub.execute_input": "2023-08-25T16:38:28.447437Z",
     "iopub.status.busy": "2023-08-25T16:38:28.446976Z",
     "iopub.status.idle": "2023-08-25T16:38:28.472056Z",
     "shell.execute_reply": "2023-08-25T16:38:28.470580Z"
    },
    "papermill": {
     "duration": 0.035434,
     "end_time": "2023-08-25T16:38:28.474835",
     "exception": false,
     "start_time": "2023-08-25T16:38:28.439401",
     "status": "completed"
    },
    "tags": []
   },
   "outputs": [
    {
     "name": "stdout",
     "output_type": "stream",
     "text": [
      "/kaggle/input/clean-cic-ids-2018/test/test.csv\n",
      "/kaggle/input/clean-cic-ids-2018/train/03-01-2018_clean.csv\n",
      "/kaggle/input/clean-cic-ids-2018/train/02-22-2018_clean.csv\n",
      "/kaggle/input/clean-cic-ids-2018/train/02-21-2018_clean.csv\n",
      "/kaggle/input/clean-cic-ids-2018/train/02-23-2018_clean.csv\n",
      "/kaggle/input/clean-cic-ids-2018/train/02-15-2018_clean.csv\n",
      "/kaggle/input/clean-cic-ids-2018/train/02-28-2018_clean.csv\n",
      "/kaggle/input/clean-cic-ids-2018/train/02-16-2018_clean.csv\n",
      "/kaggle/input/clean-cic-ids-2018/train/03-02-2018_clean.csv\n",
      "/kaggle/input/clean-cic-ids-2018/train/02-14-2018_clean.csv\n",
      "/kaggle/input/clean-cic-ids-2018/train/02-20-2018_clean.csv\n"
     ]
    }
   ],
   "source": [
    "# This Python 3 environment comes with many helpful analytics libraries installed\n",
    "# It is defined by the kaggle/python Docker image: https://github.com/kaggle/docker-python\n",
    "# For example, here's several helpful packages to load\n",
    "\n",
    "import numpy as np # linear algebra\n",
    "import pandas as pd # data processing, CSV file I/O (e.g. pd.read_csv)\n",
    "\n",
    "# Input data files are available in the read-only \"../input/\" directory\n",
    "# For example, running this (by clicking run or pressing Shift+Enter) will list all files under the input directory\n",
    "\n",
    "import os\n",
    "for dirname, _, filenames in os.walk('/kaggle/input'):\n",
    "    for filename in filenames:\n",
    "        print(os.path.join(dirname, filename))\n",
    "\n",
    "# You can write up to 20GB to the current directory (/kaggle/working/) that gets preserved as output when you create a version using \"Save & Run All\" \n",
    "# You can also write temporary files to /kaggle/temp/, but they won't be saved outside of the current session"
   ]
  },
  {
   "cell_type": "code",
   "execution_count": 2,
   "id": "1a4b8387",
   "metadata": {
    "execution": {
     "iopub.execute_input": "2023-08-25T16:38:28.487941Z",
     "iopub.status.busy": "2023-08-25T16:38:28.487490Z",
     "iopub.status.idle": "2023-08-25T16:40:20.757409Z",
     "shell.execute_reply": "2023-08-25T16:40:20.755996Z"
    },
    "papermill": {
     "duration": 112.284516,
     "end_time": "2023-08-25T16:40:20.765079",
     "exception": false,
     "start_time": "2023-08-25T16:38:28.480563",
     "status": "completed"
    },
    "tags": []
   },
   "outputs": [
    {
     "name": "stdout",
     "output_type": "stream",
     "text": [
      "(12639793, 71)\n"
     ]
    }
   ],
   "source": [
    "# Define the list of file names\n",
    "file_names = [\n",
    "    \"/kaggle/input/clean-cic-ids-2018/train/02-14-2018_clean.csv\",\n",
    "    \"/kaggle/input/clean-cic-ids-2018/train/02-15-2018_clean.csv\",\n",
    "    \"/kaggle/input/clean-cic-ids-2018/train/02-16-2018_clean.csv\",\n",
    "    \"/kaggle/input/clean-cic-ids-2018/train/02-20-2018_clean.csv\",\n",
    "    \"/kaggle/input/clean-cic-ids-2018/train/02-21-2018_clean.csv\",\n",
    "    \"/kaggle/input/clean-cic-ids-2018/train/02-22-2018_clean.csv\",\n",
    "    \"/kaggle/input/clean-cic-ids-2018/train/02-23-2018_clean.csv\",\n",
    "    \"/kaggle/input/clean-cic-ids-2018/train/02-28-2018_clean.csv\",\n",
    "    \"/kaggle/input/clean-cic-ids-2018/train/03-01-2018_clean.csv\",\n",
    "    \"/kaggle/input/clean-cic-ids-2018/train/03-02-2018_clean.csv\"\n",
    "]\n",
    "\n",
    "# Initialize an empty list to store the DataFrames\n",
    "dfs = []\n",
    "\n",
    "# Loop through the file names and read each file as a DataFrame\n",
    "for file_name in file_names:\n",
    "    df = pd.read_csv(file_name)\n",
    "    dfs.append(df)\n",
    "\n",
    "# Concatenate the DataFrames into a single DataFrame\n",
    "df = pd.concat(dfs, ignore_index=True)\n",
    "\n",
    "# Print the shape of the combined DataFrame\n",
    "print(df.shape)"
   ]
  },
  {
   "cell_type": "code",
   "execution_count": 3,
   "id": "65d309d6",
   "metadata": {
    "execution": {
     "iopub.execute_input": "2023-08-25T16:40:20.778387Z",
     "iopub.status.busy": "2023-08-25T16:40:20.777861Z",
     "iopub.status.idle": "2023-08-25T16:40:47.983106Z",
     "shell.execute_reply": "2023-08-25T16:40:47.981493Z"
    },
    "papermill": {
     "duration": 27.215765,
     "end_time": "2023-08-25T16:40:47.986131",
     "exception": false,
     "start_time": "2023-08-25T16:40:20.770366",
     "status": "completed"
    },
    "tags": []
   },
   "outputs": [
    {
     "name": "stdout",
     "output_type": "stream",
     "text": [
      "(3159955, 71)\n"
     ]
    }
   ],
   "source": [
    "test_combined_df = pd.read_csv(\"/kaggle/input/clean-cic-ids-2018/test/test.csv\", index_col=False)\n",
    "test_combined_df = test_combined_df.drop(columns='Unnamed: 0')\n",
    "print(test_combined_df.shape)"
   ]
  },
  {
   "cell_type": "code",
   "execution_count": 4,
   "id": "0fba3e09",
   "metadata": {
    "execution": {
     "iopub.execute_input": "2023-08-25T16:40:48.000208Z",
     "iopub.status.busy": "2023-08-25T16:40:47.999653Z",
     "iopub.status.idle": "2023-08-25T16:40:48.010589Z",
     "shell.execute_reply": "2023-08-25T16:40:48.009425Z"
    },
    "papermill": {
     "duration": 0.020961,
     "end_time": "2023-08-25T16:40:48.013047",
     "exception": false,
     "start_time": "2023-08-25T16:40:47.992086",
     "status": "completed"
    },
    "tags": []
   },
   "outputs": [
    {
     "data": {
      "text/plain": [
       "36"
      ]
     },
     "execution_count": 4,
     "metadata": {},
     "output_type": "execute_result"
    }
   ],
   "source": [
    "features = [\n",
    "    \"PSH Flag Cnt\",\n",
    "    \"Dst Port\",\n",
    "    \"Init Fwd Win Byts\",\n",
    "    \"RST Flag Cnt\",\n",
    "    \"Fwd PSH Flags\",\n",
    "    \"Bwd IAT Max\",\n",
    "    \"Date\",\n",
    "    \"Fwd IAT Tot\",\n",
    "    \"Fwd IAT Max\",\n",
    "    \"Fwd IAT Min\",\n",
    "    \"Fwd Seg Size Min\",\n",
    "    \"Bwd Seg Size Avg\",\n",
    "    \"Flow Duration\",\n",
    "    \"Init Bwd Win Byts\",\n",
    "    \"Fwd IAT Mean\",\n",
    "    \"Pkt Len Std\",\n",
    "    \"Bwd Pkts/s\",\n",
    "    \"Time\",\n",
    "    \"Bwd Pkt Len Mean\",\n",
    "    \"Fwd Pkt Len Max\",\n",
    "    \"Fwd Pkts/s\",\n",
    "    \"Bwd Header Len\",\n",
    "    \"Bwd IAT Tot\",\n",
    "    \"Pkt Len Max\",\n",
    "    \"Bwd Pkt Len Min\",\n",
    "    \"Bwd Pkt Len Max\",\n",
    "    \"Subflow Fwd Byts\",\n",
    "    \"Flow IAT Max\",\n",
    "    \"ACK Flag Cnt\",\n",
    "    \"Flow IAT Mean\",\n",
    "    \"TotLen Fwd Pkts\",\n",
    "    \"Fwd Header Len\",\n",
    "    \"Protocol\",\n",
    "    \"ECE Flag Cnt\",\n",
    "    \"Pkt Len Var\",\n",
    "    \"SYN Flag Cnt\"\n",
    "]\n",
    "len(features)"
   ]
  },
  {
   "cell_type": "code",
   "execution_count": 5,
   "id": "82cf75a3",
   "metadata": {
    "execution": {
     "iopub.execute_input": "2023-08-25T16:40:48.027129Z",
     "iopub.status.busy": "2023-08-25T16:40:48.026639Z",
     "iopub.status.idle": "2023-08-25T16:40:50.382320Z",
     "shell.execute_reply": "2023-08-25T16:40:50.381021Z"
    },
    "papermill": {
     "duration": 2.366276,
     "end_time": "2023-08-25T16:40:50.384939",
     "exception": false,
     "start_time": "2023-08-25T16:40:48.018663",
     "status": "completed"
    },
    "tags": []
   },
   "outputs": [],
   "source": [
    "cols_to_drop = [col for col in df.columns if col not in features and col != 'Label']\n",
    "df.drop(cols_to_drop, axis=1, inplace=True)\n",
    "test_combined_df.drop(cols_to_drop, axis=1, inplace=True)"
   ]
  },
  {
   "cell_type": "code",
   "execution_count": 6,
   "id": "e2937600",
   "metadata": {
    "execution": {
     "iopub.execute_input": "2023-08-25T16:40:50.398412Z",
     "iopub.status.busy": "2023-08-25T16:40:50.397930Z",
     "iopub.status.idle": "2023-08-25T16:40:50.525596Z",
     "shell.execute_reply": "2023-08-25T16:40:50.523860Z"
    },
    "papermill": {
     "duration": 0.138481,
     "end_time": "2023-08-25T16:40:50.528999",
     "exception": false,
     "start_time": "2023-08-25T16:40:50.390518",
     "status": "completed"
    },
    "tags": []
   },
   "outputs": [
    {
     "name": "stdout",
     "output_type": "stream",
     "text": [
      "0    10757216\n",
      "3     1401476\n",
      "1      225697\n",
      "4      129373\n",
      "2      125965\n",
      "5          66\n",
      "Name: Label, dtype: int64\n"
     ]
    }
   ],
   "source": [
    "label_counts = df[\"Label\"].value_counts()\n",
    "print(label_counts)"
   ]
  },
  {
   "cell_type": "code",
   "execution_count": 7,
   "id": "b72cf143",
   "metadata": {
    "execution": {
     "iopub.execute_input": "2023-08-25T16:40:50.543971Z",
     "iopub.status.busy": "2023-08-25T16:40:50.543377Z",
     "iopub.status.idle": "2023-08-25T16:40:53.763517Z",
     "shell.execute_reply": "2023-08-25T16:40:53.761395Z"
    },
    "papermill": {
     "duration": 3.230768,
     "end_time": "2023-08-25T16:40:53.766411",
     "exception": false,
     "start_time": "2023-08-25T16:40:50.535643",
     "status": "completed"
    },
    "tags": []
   },
   "outputs": [
    {
     "name": "stdout",
     "output_type": "stream",
     "text": [
      "         Label  Dst Port  Protocol  Flow Duration  TotLen Fwd Pkts  \\\n",
      "126509       2      22.0       6.0       396199.0           1928.0   \n",
      "11229493     4      53.0      17.0         2072.0             40.0   \n",
      "11149078     4      53.0      17.0          404.0             46.0   \n",
      "456536       2      21.0       6.0            1.0              0.0   \n",
      "591669       2      21.0       6.0            2.0              0.0   \n",
      "...        ...       ...       ...            ...              ...   \n",
      "569875       2      21.0       6.0            1.0              0.0   \n",
      "2730310      3      80.0       6.0      1253008.0             20.0   \n",
      "11916793     1    8080.0       6.0          640.0              0.0   \n",
      "12107725     1    8080.0       6.0          510.0              0.0   \n",
      "12045931     1    8080.0       6.0        10967.0            326.0   \n",
      "\n",
      "          Fwd Pkt Len Max  Bwd Pkt Len Max  Bwd Pkt Len Min  Bwd Pkt Len Mean  \\\n",
      "126509              640.0            976.0              0.0             133.0   \n",
      "11229493             40.0            146.0            146.0             146.0   \n",
      "11149078             46.0            174.0            174.0             174.0   \n",
      "456536                0.0              0.0              0.0               0.0   \n",
      "591669                0.0              0.0              0.0               0.0   \n",
      "...                   ...              ...              ...               ...   \n",
      "569875                0.0              0.0              0.0               0.0   \n",
      "2730310              20.0            964.0              0.0             241.0   \n",
      "11916793              0.0              0.0              0.0               0.0   \n",
      "12107725              0.0              0.0              0.0               0.0   \n",
      "12045931            326.0            112.0              0.0              32.0   \n",
      "\n",
      "          Flow IAT Mean  ...  PSH Flag Cnt  ACK Flag Cnt  ECE Flag Cnt  \\\n",
      "126509           9663.0  ...           1.0           0.0           0.0   \n",
      "11229493         2072.0  ...           0.0           0.0           0.0   \n",
      "11149078          404.0  ...           0.0           0.0           0.0   \n",
      "456536              1.0  ...           1.0           0.0           0.0   \n",
      "591669              2.0  ...           1.0           0.0           0.0   \n",
      "...                 ...  ...           ...           ...           ...   \n",
      "569875              1.0  ...           1.0           0.0           0.0   \n",
      "2730310        208834.0  ...           1.0           0.0           1.0   \n",
      "11916793          640.0  ...           0.0           1.0           0.0   \n",
      "12107725          510.0  ...           0.0           1.0           0.0   \n",
      "12045931         1827.0  ...           1.0           0.0           1.0   \n",
      "\n",
      "          Bwd Seg Size Avg  Subflow Fwd Byts  Init Fwd Win Byts  \\\n",
      "126509               133.0            1928.0            26883.0   \n",
      "11229493             146.0              40.0               -1.0   \n",
      "11149078             174.0              46.0               -1.0   \n",
      "456536                 0.0               0.0            26883.0   \n",
      "591669                 0.0               0.0            26883.0   \n",
      "...                    ...               ...                ...   \n",
      "569875                 0.0               0.0            26883.0   \n",
      "2730310              241.0              20.0             8192.0   \n",
      "11916793               0.0               0.0             2052.0   \n",
      "12107725               0.0               0.0             2052.0   \n",
      "12045931              32.0             326.0             8192.0   \n",
      "\n",
      "          Init Bwd Win Byts  Fwd Seg Size Min        Date      Time  \n",
      "126509                230.0              32.0  20180214.0   21058.0  \n",
      "11229493               -1.0               8.0  20180228.0  120101.0  \n",
      "11149078               -1.0               8.0  20180228.0  111026.0  \n",
      "456536                  0.0              40.0  20180214.0  114015.0  \n",
      "591669                  0.0              40.0  20180214.0  103602.0  \n",
      "...                     ...               ...         ...       ...  \n",
      "569875                  0.0              40.0  20180214.0  104813.0  \n",
      "2730310               211.0              20.0  20180220.0  111159.0  \n",
      "11916793               -1.0              20.0  20180302.0  113742.0  \n",
      "12107725               -1.0              20.0  20180302.0  110608.0  \n",
      "12045931              219.0              20.0  20180302.0  110857.0  \n",
      "\n",
      "[500066 rows x 37 columns]\n"
     ]
    }
   ],
   "source": [
    "sampled_df = pd.DataFrame(columns=[\"Label\"])\n",
    "\n",
    "# Filter instances with label 5\n",
    "label_5_instances = df[df[\"Label\"] == 5]\n",
    "\n",
    "# Sample 100,000 instances for each label from 0 to 5\n",
    "for label in range(5):\n",
    "    label_sample = df[df[\"Label\"] == label].sample(n=100000, replace=True, random_state=42)\n",
    "    sampled_df = pd.concat([sampled_df, label_sample])\n",
    "\n",
    "# Combine the sampled instances with label 5 instances\n",
    "combined_df = pd.concat([sampled_df, label_5_instances])\n",
    "\n",
    "# Shuffle the final sample\n",
    "combined_df = combined_df.sample(frac=1, random_state=42)\n",
    "\n",
    "print(combined_df)"
   ]
  },
  {
   "cell_type": "code",
   "execution_count": 8,
   "id": "cc77f60e",
   "metadata": {
    "execution": {
     "iopub.execute_input": "2023-08-25T16:40:53.782062Z",
     "iopub.status.busy": "2023-08-25T16:40:53.781596Z",
     "iopub.status.idle": "2023-08-25T16:40:53.817055Z",
     "shell.execute_reply": "2023-08-25T16:40:53.815927Z"
    },
    "papermill": {
     "duration": 0.045173,
     "end_time": "2023-08-25T16:40:53.819676",
     "exception": false,
     "start_time": "2023-08-25T16:40:53.774503",
     "status": "completed"
    },
    "tags": []
   },
   "outputs": [
    {
     "name": "stdout",
     "output_type": "stream",
     "text": [
      "2    100000\n",
      "4    100000\n",
      "0    100000\n",
      "3    100000\n",
      "1    100000\n",
      "5        66\n",
      "Name: Label, dtype: int64\n"
     ]
    }
   ],
   "source": [
    "label_counts = combined_df[\"Label\"].value_counts()\n",
    "print(label_counts)"
   ]
  },
  {
   "cell_type": "code",
   "execution_count": 9,
   "id": "3e7e2b01",
   "metadata": {
    "execution": {
     "iopub.execute_input": "2023-08-25T16:40:53.833315Z",
     "iopub.status.busy": "2023-08-25T16:40:53.832837Z",
     "iopub.status.idle": "2023-08-25T16:40:57.400971Z",
     "shell.execute_reply": "2023-08-25T16:40:57.399692Z"
    },
    "papermill": {
     "duration": 3.5786,
     "end_time": "2023-08-25T16:40:57.403976",
     "exception": false,
     "start_time": "2023-08-25T16:40:53.825376",
     "status": "completed"
    },
    "tags": []
   },
   "outputs": [
    {
     "name": "stderr",
     "output_type": "stream",
     "text": [
      "/opt/conda/lib/python3.10/site-packages/scipy/__init__.py:146: UserWarning: A NumPy version >=1.16.5 and <1.23.0 is required for this version of SciPy (detected version 1.23.5\n",
      "  warnings.warn(f\"A NumPy version >={np_minversion} and <{np_maxversion}\"\n"
     ]
    }
   ],
   "source": [
    "from sklearn.feature_selection import (chi2, f_classif, mutual_info_classif, RFE, SelectFromModel, SelectKBest)\n",
    "from sklearn.ensemble import RandomForestClassifier\n",
    "from sklearn.linear_model import LogisticRegression\n",
    "from sklearn.metrics import (accuracy_score, f1_score, precision_score, recall_score)\n",
    "from xgboost import XGBClassifier\n",
    "from sklearn.preprocessing import MinMaxScaler\n",
    "\n",
    "X_train = combined_df.drop(columns='Label')\n",
    "y_train = combined_df['Label']\n",
    "\n",
    "X_test = test_combined_df.drop(columns='Label')\n",
    "y_test = test_combined_df['Label']\n",
    "\n",
    "scaler = MinMaxScaler()\n",
    "X_train_scaled = scaler.fit_transform(X_train)\n",
    "X_test_scaled = scaler.transform(X_test)"
   ]
  },
  {
   "cell_type": "code",
   "execution_count": 10,
   "id": "9d3da05d",
   "metadata": {
    "execution": {
     "iopub.execute_input": "2023-08-25T16:40:57.417581Z",
     "iopub.status.busy": "2023-08-25T16:40:57.416861Z",
     "iopub.status.idle": "2023-08-25T16:40:58.191517Z",
     "shell.execute_reply": "2023-08-25T16:40:58.190303Z"
    },
    "papermill": {
     "duration": 0.784711,
     "end_time": "2023-08-25T16:40:58.194478",
     "exception": false,
     "start_time": "2023-08-25T16:40:57.409767",
     "status": "completed"
    },
    "tags": []
   },
   "outputs": [],
   "source": [
    "from sklearn.preprocessing import LabelEncoder\n",
    "\n",
    "label_encoder = LabelEncoder()\n",
    "y_train = label_encoder.fit_transform(y_train)\n",
    "y_test = label_encoder.transform(y_test)"
   ]
  },
  {
   "cell_type": "code",
   "execution_count": 11,
   "id": "453a22bc",
   "metadata": {
    "execution": {
     "iopub.execute_input": "2023-08-25T16:40:58.209714Z",
     "iopub.status.busy": "2023-08-25T16:40:58.209263Z",
     "iopub.status.idle": "2023-08-25T17:56:43.899298Z",
     "shell.execute_reply": "2023-08-25T17:56:43.896583Z"
    },
    "papermill": {
     "duration": 4545.701799,
     "end_time": "2023-08-25T17:56:43.903652",
     "exception": false,
     "start_time": "2023-08-25T16:40:58.201853",
     "status": "completed"
    },
    "tags": []
   },
   "outputs": [
    {
     "name": "stderr",
     "output_type": "stream",
     "text": [
      "/opt/conda/lib/python3.10/site-packages/sklearn/linear_model/_logistic.py:458: ConvergenceWarning: lbfgs failed to converge (status=1):\n",
      "STOP: TOTAL NO. of ITERATIONS REACHED LIMIT.\n",
      "\n",
      "Increase the number of iterations (max_iter) or scale the data as shown in:\n",
      "    https://scikit-learn.org/stable/modules/preprocessing.html\n",
      "Please also refer to the documentation for alternative solver options:\n",
      "    https://scikit-learn.org/stable/modules/linear_model.html#logistic-regression\n",
      "  n_iter_i = _check_optimize_result(\n",
      "/opt/conda/lib/python3.10/site-packages/sklearn/linear_model/_logistic.py:458: ConvergenceWarning: lbfgs failed to converge (status=1):\n",
      "STOP: TOTAL NO. of ITERATIONS REACHED LIMIT.\n",
      "\n",
      "Increase the number of iterations (max_iter) or scale the data as shown in:\n",
      "    https://scikit-learn.org/stable/modules/preprocessing.html\n",
      "Please also refer to the documentation for alternative solver options:\n",
      "    https://scikit-learn.org/stable/modules/linear_model.html#logistic-regression\n",
      "  n_iter_i = _check_optimize_result(\n",
      "/opt/conda/lib/python3.10/site-packages/sklearn/linear_model/_logistic.py:458: ConvergenceWarning: lbfgs failed to converge (status=1):\n",
      "STOP: TOTAL NO. of ITERATIONS REACHED LIMIT.\n",
      "\n",
      "Increase the number of iterations (max_iter) or scale the data as shown in:\n",
      "    https://scikit-learn.org/stable/modules/preprocessing.html\n",
      "Please also refer to the documentation for alternative solver options:\n",
      "    https://scikit-learn.org/stable/modules/linear_model.html#logistic-regression\n",
      "  n_iter_i = _check_optimize_result(\n",
      "/opt/conda/lib/python3.10/site-packages/sklearn/linear_model/_logistic.py:458: ConvergenceWarning: lbfgs failed to converge (status=1):\n",
      "STOP: TOTAL NO. of ITERATIONS REACHED LIMIT.\n",
      "\n",
      "Increase the number of iterations (max_iter) or scale the data as shown in:\n",
      "    https://scikit-learn.org/stable/modules/preprocessing.html\n",
      "Please also refer to the documentation for alternative solver options:\n",
      "    https://scikit-learn.org/stable/modules/linear_model.html#logistic-regression\n",
      "  n_iter_i = _check_optimize_result(\n",
      "/opt/conda/lib/python3.10/site-packages/sklearn/linear_model/_logistic.py:458: ConvergenceWarning: lbfgs failed to converge (status=1):\n",
      "STOP: TOTAL NO. of ITERATIONS REACHED LIMIT.\n",
      "\n",
      "Increase the number of iterations (max_iter) or scale the data as shown in:\n",
      "    https://scikit-learn.org/stable/modules/preprocessing.html\n",
      "Please also refer to the documentation for alternative solver options:\n",
      "    https://scikit-learn.org/stable/modules/linear_model.html#logistic-regression\n",
      "  n_iter_i = _check_optimize_result(\n",
      "/opt/conda/lib/python3.10/site-packages/sklearn/linear_model/_logistic.py:458: ConvergenceWarning: lbfgs failed to converge (status=1):\n",
      "STOP: TOTAL NO. of ITERATIONS REACHED LIMIT.\n",
      "\n",
      "Increase the number of iterations (max_iter) or scale the data as shown in:\n",
      "    https://scikit-learn.org/stable/modules/preprocessing.html\n",
      "Please also refer to the documentation for alternative solver options:\n",
      "    https://scikit-learn.org/stable/modules/linear_model.html#logistic-regression\n",
      "  n_iter_i = _check_optimize_result(\n",
      "/opt/conda/lib/python3.10/site-packages/sklearn/linear_model/_logistic.py:458: ConvergenceWarning: lbfgs failed to converge (status=1):\n",
      "STOP: TOTAL NO. of ITERATIONS REACHED LIMIT.\n",
      "\n",
      "Increase the number of iterations (max_iter) or scale the data as shown in:\n",
      "    https://scikit-learn.org/stable/modules/preprocessing.html\n",
      "Please also refer to the documentation for alternative solver options:\n",
      "    https://scikit-learn.org/stable/modules/linear_model.html#logistic-regression\n",
      "  n_iter_i = _check_optimize_result(\n",
      "/opt/conda/lib/python3.10/site-packages/sklearn/linear_model/_logistic.py:458: ConvergenceWarning: lbfgs failed to converge (status=1):\n",
      "STOP: TOTAL NO. of ITERATIONS REACHED LIMIT.\n",
      "\n",
      "Increase the number of iterations (max_iter) or scale the data as shown in:\n",
      "    https://scikit-learn.org/stable/modules/preprocessing.html\n",
      "Please also refer to the documentation for alternative solver options:\n",
      "    https://scikit-learn.org/stable/modules/linear_model.html#logistic-regression\n",
      "  n_iter_i = _check_optimize_result(\n",
      "/opt/conda/lib/python3.10/site-packages/sklearn/linear_model/_logistic.py:458: ConvergenceWarning: lbfgs failed to converge (status=1):\n",
      "STOP: TOTAL NO. of ITERATIONS REACHED LIMIT.\n",
      "\n",
      "Increase the number of iterations (max_iter) or scale the data as shown in:\n",
      "    https://scikit-learn.org/stable/modules/preprocessing.html\n",
      "Please also refer to the documentation for alternative solver options:\n",
      "    https://scikit-learn.org/stable/modules/linear_model.html#logistic-regression\n",
      "  n_iter_i = _check_optimize_result(\n",
      "/opt/conda/lib/python3.10/site-packages/sklearn/linear_model/_logistic.py:458: ConvergenceWarning: lbfgs failed to converge (status=1):\n",
      "STOP: TOTAL NO. of ITERATIONS REACHED LIMIT.\n",
      "\n",
      "Increase the number of iterations (max_iter) or scale the data as shown in:\n",
      "    https://scikit-learn.org/stable/modules/preprocessing.html\n",
      "Please also refer to the documentation for alternative solver options:\n",
      "    https://scikit-learn.org/stable/modules/linear_model.html#logistic-regression\n",
      "  n_iter_i = _check_optimize_result(\n",
      "/opt/conda/lib/python3.10/site-packages/sklearn/linear_model/_logistic.py:458: ConvergenceWarning: lbfgs failed to converge (status=1):\n",
      "STOP: TOTAL NO. of ITERATIONS REACHED LIMIT.\n",
      "\n",
      "Increase the number of iterations (max_iter) or scale the data as shown in:\n",
      "    https://scikit-learn.org/stable/modules/preprocessing.html\n",
      "Please also refer to the documentation for alternative solver options:\n",
      "    https://scikit-learn.org/stable/modules/linear_model.html#logistic-regression\n",
      "  n_iter_i = _check_optimize_result(\n",
      "/opt/conda/lib/python3.10/site-packages/sklearn/linear_model/_logistic.py:458: ConvergenceWarning: lbfgs failed to converge (status=1):\n",
      "STOP: TOTAL NO. of ITERATIONS REACHED LIMIT.\n",
      "\n",
      "Increase the number of iterations (max_iter) or scale the data as shown in:\n",
      "    https://scikit-learn.org/stable/modules/preprocessing.html\n",
      "Please also refer to the documentation for alternative solver options:\n",
      "    https://scikit-learn.org/stable/modules/linear_model.html#logistic-regression\n",
      "  n_iter_i = _check_optimize_result(\n",
      "/opt/conda/lib/python3.10/site-packages/sklearn/linear_model/_logistic.py:458: ConvergenceWarning: lbfgs failed to converge (status=1):\n",
      "STOP: TOTAL NO. of ITERATIONS REACHED LIMIT.\n",
      "\n",
      "Increase the number of iterations (max_iter) or scale the data as shown in:\n",
      "    https://scikit-learn.org/stable/modules/preprocessing.html\n",
      "Please also refer to the documentation for alternative solver options:\n",
      "    https://scikit-learn.org/stable/modules/linear_model.html#logistic-regression\n",
      "  n_iter_i = _check_optimize_result(\n",
      "/opt/conda/lib/python3.10/site-packages/sklearn/linear_model/_logistic.py:458: ConvergenceWarning: lbfgs failed to converge (status=1):\n",
      "STOP: TOTAL NO. of ITERATIONS REACHED LIMIT.\n",
      "\n",
      "Increase the number of iterations (max_iter) or scale the data as shown in:\n",
      "    https://scikit-learn.org/stable/modules/preprocessing.html\n",
      "Please also refer to the documentation for alternative solver options:\n",
      "    https://scikit-learn.org/stable/modules/linear_model.html#logistic-regression\n",
      "  n_iter_i = _check_optimize_result(\n",
      "/opt/conda/lib/python3.10/site-packages/sklearn/linear_model/_logistic.py:458: ConvergenceWarning: lbfgs failed to converge (status=1):\n",
      "STOP: TOTAL NO. of ITERATIONS REACHED LIMIT.\n",
      "\n",
      "Increase the number of iterations (max_iter) or scale the data as shown in:\n",
      "    https://scikit-learn.org/stable/modules/preprocessing.html\n",
      "Please also refer to the documentation for alternative solver options:\n",
      "    https://scikit-learn.org/stable/modules/linear_model.html#logistic-regression\n",
      "  n_iter_i = _check_optimize_result(\n",
      "/opt/conda/lib/python3.10/site-packages/sklearn/linear_model/_logistic.py:458: ConvergenceWarning: lbfgs failed to converge (status=1):\n",
      "STOP: TOTAL NO. of ITERATIONS REACHED LIMIT.\n",
      "\n",
      "Increase the number of iterations (max_iter) or scale the data as shown in:\n",
      "    https://scikit-learn.org/stable/modules/preprocessing.html\n",
      "Please also refer to the documentation for alternative solver options:\n",
      "    https://scikit-learn.org/stable/modules/linear_model.html#logistic-regression\n",
      "  n_iter_i = _check_optimize_result(\n",
      "/opt/conda/lib/python3.10/site-packages/sklearn/linear_model/_logistic.py:458: ConvergenceWarning: lbfgs failed to converge (status=1):\n",
      "STOP: TOTAL NO. of ITERATIONS REACHED LIMIT.\n",
      "\n",
      "Increase the number of iterations (max_iter) or scale the data as shown in:\n",
      "    https://scikit-learn.org/stable/modules/preprocessing.html\n",
      "Please also refer to the documentation for alternative solver options:\n",
      "    https://scikit-learn.org/stable/modules/linear_model.html#logistic-regression\n",
      "  n_iter_i = _check_optimize_result(\n"
     ]
    }
   ],
   "source": [
    "from sklearn.linear_model import LogisticRegression\n",
    "\n",
    "# Create a Logistic Regression model with an increased max_iter value\n",
    "logreg = LogisticRegression(max_iter=1000)  # Increased max_iter value\n",
    "\n",
    "# 1. Information Gain (IG)\n",
    "selector_ig = SelectKBest(score_func=mutual_info_classif, k=20)\n",
    "X_train_ig = selector_ig.fit_transform(X_train, y_train)\n",
    "X_test_ig = selector_ig.transform(X_test)\n",
    "selected_columns_ig = X_train.columns[selector_ig.get_support()]\n",
    "\n",
    "# 2. Chi-Square (CS)\n",
    "selector_cs = SelectKBest(score_func=chi2, k=20)\n",
    "X_train_cs = selector_cs.fit_transform(X_train_scaled, y_train)\n",
    "X_test_cs = selector_cs.transform(X_test_scaled)\n",
    "selected_columns_cs = X_train.columns[selector_cs.get_support()]\n",
    "\n",
    "# 3. Gain Ratio (GR)\n",
    "def gain_ratio(X, y):\n",
    "    mi = mutual_info_classif(X, y)\n",
    "    H_y = -np.sum(np.unique(y, return_counts=True)[1] / len(y) * np.log2(np.unique(y, return_counts=True)[1] / len(y)))\n",
    "    return mi / H_y\n",
    "\n",
    "selector_gr = SelectKBest(score_func=gain_ratio, k=20)\n",
    "X_train_gr = selector_gr.fit_transform(X_train, y_train)\n",
    "X_test_gr = selector_gr.transform(X_test)\n",
    "selected_columns_gr = X_train.columns[selector_gr.get_support()]\n",
    "\n",
    "# 4. Recursive Feature Elimination (RFE)\n",
    "selector_rfe = RFE(logreg, n_features_to_select=20)\n",
    "X_train_rfe = selector_rfe.fit_transform(X_train, y_train)\n",
    "X_test_rfe = selector_rfe.transform(X_test)\n",
    "selected_columns_rfe = X_train.columns[selector_rfe.get_support()]\n",
    "\n",
    "# 5. SelectKBest\n",
    "selector_skb = SelectKBest(score_func=f_classif, k=20)\n",
    "X_train_skb = selector_skb.fit_transform(X_train, y_train)\n",
    "X_test_skb = selector_skb.transform(X_test)\n",
    "selected_columns_skb = X_train.columns[selector_skb.get_support()]\n",
    "\n",
    "# 6. Feature Importance using Tree-based Models\n",
    "rfc = RandomForestClassifier()\n",
    "rfc.fit(X_train, y_train)\n",
    "importances = rfc.feature_importances_\n",
    "sorted_importances = sorted(importances, reverse=True)\n",
    "threshold = sorted_importances[19]  # Get the 20th highest importance value\n",
    "\n",
    "selector_rf = SelectFromModel(rfc, threshold=threshold)\n",
    "X_train_rf = selector_rf.fit_transform(X_train, y_train)\n",
    "X_test_rf = selector_rf.transform(X_test)\n",
    "selected_columns_rf = X_train.columns[selector_rf.get_support()]"
   ]
  },
  {
   "cell_type": "code",
   "execution_count": 12,
   "id": "c8c291d5",
   "metadata": {
    "execution": {
     "iopub.execute_input": "2023-08-25T17:56:43.923965Z",
     "iopub.status.busy": "2023-08-25T17:56:43.923348Z",
     "iopub.status.idle": "2023-08-25T18:19:52.249331Z",
     "shell.execute_reply": "2023-08-25T18:19:52.247667Z"
    },
    "papermill": {
     "duration": 1388.344609,
     "end_time": "2023-08-25T18:19:52.256615",
     "exception": false,
     "start_time": "2023-08-25T17:56:43.912006",
     "status": "completed"
    },
    "tags": []
   },
   "outputs": [],
   "source": [
    "# Train and evaluate XGBoost model on selected columns from IG\n",
    "xgb_ig = XGBClassifier(n_jobs=-1)\n",
    "xgb_ig.fit(X_train_ig, y_train)\n",
    "y_pred_ig = xgb_ig.predict(X_test_ig)\n",
    "\n",
    "# Train and evaluate XGBoost model on selected columns from CS\n",
    "xgb_cs = XGBClassifier(n_jobs=-1)\n",
    "xgb_cs.fit(X_train_cs, y_train)\n",
    "y_pred_cs = xgb_cs.predict(X_test_cs)\n",
    "\n",
    "# Train and evaluate XGBoost model on selected columns from GR\n",
    "xgb_gr = XGBClassifier(n_jobs=-1)\n",
    "xgb_gr.fit(X_train_gr, y_train)\n",
    "y_pred_gr = xgb_gr.predict(X_test_gr)\n",
    "\n",
    "# Train and evaluate XGBoost model on selected columns from RFE\n",
    "xgb_rfe = XGBClassifier(n_jobs=-1)\n",
    "xgb_rfe.fit(X_train_rfe, y_train)\n",
    "y_pred_rfe = xgb_rfe.predict(X_test_rfe)\n",
    "\n",
    "# Train and evaluate XGBoost model on selected columns from SKB\n",
    "xgb_skb = XGBClassifier(n_jobs=-1)\n",
    "xgb_skb.fit(X_train_skb, y_train)\n",
    "y_pred_skb = xgb_skb.predict(X_test_skb)\n",
    "\n",
    "# Train and evaluate XGBoost model on selected columns from RF\n",
    "xgb_rf = XGBClassifier(n_jobs=-1)\n",
    "xgb_rf.fit(X_train_rf, y_train)\n",
    "y_pred_rf = xgb_rf.predict(X_test_rf)\n"
   ]
  },
  {
   "cell_type": "code",
   "execution_count": 13,
   "id": "266fe8a2",
   "metadata": {
    "execution": {
     "iopub.execute_input": "2023-08-25T18:19:52.278879Z",
     "iopub.status.busy": "2023-08-25T18:19:52.278447Z",
     "iopub.status.idle": "2023-08-25T18:20:12.917968Z",
     "shell.execute_reply": "2023-08-25T18:20:12.917110Z"
    },
    "papermill": {
     "duration": 20.653401,
     "end_time": "2023-08-25T18:20:12.922794",
     "exception": false,
     "start_time": "2023-08-25T18:19:52.269393",
     "status": "completed"
    },
    "tags": []
   },
   "outputs": [
    {
     "name": "stdout",
     "output_type": "stream",
     "text": [
      "Metrics for IG:\n",
      "  Accuracy: 0.9552477804272529\n",
      "  Precision: 0.9914973924147478\n",
      "  Recall: 0.9552477804272529\n",
      "  F1 Score: 0.9699085114213453\n",
      "Metrics for CS:\n",
      "  Accuracy: 0.9560310194290742\n",
      "  Precision: 0.9915020985938588\n",
      "  Recall: 0.9560310194290742\n",
      "  F1 Score: 0.9703508195896964\n",
      "Metrics for GR:\n",
      "  Accuracy: 0.9552477804272529\n",
      "  Precision: 0.9914973924147478\n",
      "  Recall: 0.9552477804272529\n",
      "  F1 Score: 0.9699085114213453\n",
      "Metrics for RFE:\n",
      "  Accuracy: 0.9918077947312541\n",
      "  Precision: 0.9954069068167483\n",
      "  Recall: 0.9918077947312541\n",
      "  F1 Score: 0.9929430099672691\n",
      "Metrics for SKB:\n",
      "  Accuracy: 0.9554971510670247\n",
      "  Precision: 0.991458552741817\n",
      "  Recall: 0.9554971510670247\n",
      "  F1 Score: 0.9700296860631609\n",
      "Metrics for RF:\n",
      "  Accuracy: 0.9919426067776281\n",
      "  Precision: 0.9954476771942156\n",
      "  Recall: 0.9919426067776281\n",
      "  F1 Score: 0.9930453628439697\n"
     ]
    }
   ],
   "source": [
    "# Calculate metrics for each technique\n",
    "def calculate_metrics(y_test, y_pred):\n",
    "    accuracy = accuracy_score(y_test, y_pred)\n",
    "    precision = precision_score(y_test, y_pred, average='weighted')\n",
    "    recall = recall_score(y_test, y_pred, average='weighted')\n",
    "    f1 = f1_score(y_test, y_pred, average='weighted')\n",
    "    return accuracy, precision, recall, f1\n",
    "\n",
    "metrics_dict = {\n",
    "    'IG': calculate_metrics(y_test, y_pred_ig),\n",
    "    'CS': calculate_metrics(y_test, y_pred_cs),\n",
    "    'GR': calculate_metrics(y_test, y_pred_gr),\n",
    "    'RFE': calculate_metrics(y_test, y_pred_rfe),\n",
    "    'SKB': calculate_metrics(y_test, y_pred_skb),\n",
    "    'RF': calculate_metrics(y_test, y_pred_rf)\n",
    "}\n",
    "\n",
    "# Print the metrics for each technique\n",
    "for technique, metrics in metrics_dict.items():\n",
    "    accuracy, precision, recall, f1 = metrics\n",
    "    print(f\"Metrics for {technique}:\")\n",
    "    print(f\"  Accuracy: {accuracy}\")\n",
    "    print(f\"  Precision: {precision}\")\n",
    "    print(f\"  Recall: {recall}\")\n",
    "    print(f\"  F1 Score: {f1}\")"
   ]
  },
  {
   "cell_type": "code",
   "execution_count": 14,
   "id": "a9ef8f4d",
   "metadata": {
    "execution": {
     "iopub.execute_input": "2023-08-25T18:20:12.939276Z",
     "iopub.status.busy": "2023-08-25T18:20:12.938363Z",
     "iopub.status.idle": "2023-08-25T18:20:20.185316Z",
     "shell.execute_reply": "2023-08-25T18:20:20.184141Z"
    },
    "papermill": {
     "duration": 7.262383,
     "end_time": "2023-08-25T18:20:20.192186",
     "exception": false,
     "start_time": "2023-08-25T18:20:12.929803",
     "status": "completed"
    },
    "tags": []
   },
   "outputs": [
    {
     "data": {
      "image/png": "[encoded data removed]",
      "text/plain": [
       "<Figure size 1500x1000 with 12 Axes>"
      ]
     },
     "metadata": {},
     "output_type": "display_data"
    }
   ],
   "source": [
    "import seaborn as sns\n",
    "import matplotlib.pyplot as plt\n",
    "from sklearn.metrics import confusion_matrix\n",
    "\n",
    "# Define the models and their predictions\n",
    "models = {\n",
    "    \"Information Gain\": y_pred_ig,\n",
    "    \"Chi-Square\": y_pred_cs,\n",
    "    \"Gain Ratio\": y_pred_gr,\n",
    "    \"Recursive Feature Elimination\": y_pred_rfe,\n",
    "    \"SelectKBest\": y_pred_skb,\n",
    "    \"Feature Importance using Tree-based Models\": y_pred_rf,\n",
    "}\n",
    "\n",
    "# Compute confusion matrices and plot heatmaps\n",
    "fig, axes = plt.subplots(2, 3, figsize=(15, 10))\n",
    "axes = axes.flatten()\n",
    "for i, (name, y_pred) in enumerate(models.items()):\n",
    "    cm = confusion_matrix(y_test, y_pred)\n",
    "    sns.heatmap(cm, annot=True, fmt=\"d\", cmap=\"YlGnBu\", ax=axes[i])\n",
    "    axes[i].set_title(name)\n",
    "    axes[i].set_xlabel(\"Predicted\")\n",
    "    axes[i].set_ylabel(\"Actual\")\n",
    "\n",
    "plt.tight_layout()\n",
    "plt.show()"
   ]
  },
  {
   "cell_type": "code",
   "execution_count": 15,
   "id": "3ba0e86a",
   "metadata": {
    "execution": {
     "iopub.execute_input": "2023-08-25T18:20:20.212469Z",
     "iopub.status.busy": "2023-08-25T18:20:20.211691Z",
     "iopub.status.idle": "2023-08-25T18:20:20.220613Z",
     "shell.execute_reply": "2023-08-25T18:20:20.219197Z"
    },
    "papermill": {
     "duration": 0.021659,
     "end_time": "2023-08-25T18:20:20.223179",
     "exception": false,
     "start_time": "2023-08-25T18:20:20.201520",
     "status": "completed"
    },
    "tags": []
   },
   "outputs": [
    {
     "name": "stdout",
     "output_type": "stream",
     "text": [
      "Information Gain:\n",
      "  - Dst Port\n",
      "  - Flow Duration\n",
      "  - TotLen Fwd Pkts\n",
      "  - Fwd Pkt Len Max\n",
      "  - Bwd Pkt Len Max\n",
      "  - Flow IAT Mean\n",
      "  - Flow IAT Max\n",
      "  - Fwd IAT Tot\n",
      "  - Fwd IAT Mean\n",
      "  - Fwd IAT Max\n",
      "  - Fwd IAT Min\n",
      "  - Fwd Header Len\n",
      "  - Bwd Header Len\n",
      "  - Fwd Pkts/s\n",
      "  - Pkt Len Max\n",
      "  - Pkt Len Var\n",
      "  - Subflow Fwd Byts\n",
      "  - Init Fwd Win Byts\n",
      "  - Init Bwd Win Byts\n",
      "  - Date\n",
      "\n",
      "Chi-Square:\n",
      "  - Dst Port\n",
      "  - Protocol\n",
      "  - Flow Duration\n",
      "  - Bwd Pkt Len Max\n",
      "  - Bwd Pkt Len Min\n",
      "  - Flow IAT Max\n",
      "  - Fwd IAT Tot\n",
      "  - Fwd IAT Max\n",
      "  - Bwd IAT Tot\n",
      "  - Fwd PSH Flags\n",
      "  - Bwd Pkts/s\n",
      "  - SYN Flag Cnt\n",
      "  - RST Flag Cnt\n",
      "  - PSH Flag Cnt\n",
      "  - ACK Flag Cnt\n",
      "  - ECE Flag Cnt\n",
      "  - Init Fwd Win Byts\n",
      "  - Init Bwd Win Byts\n",
      "  - Fwd Seg Size Min\n",
      "  - Date\n",
      "\n",
      "Gain Ratio:\n",
      "  - Dst Port\n",
      "  - Flow Duration\n",
      "  - TotLen Fwd Pkts\n",
      "  - Fwd Pkt Len Max\n",
      "  - Bwd Pkt Len Max\n",
      "  - Flow IAT Mean\n",
      "  - Flow IAT Max\n",
      "  - Fwd IAT Tot\n",
      "  - Fwd IAT Mean\n",
      "  - Fwd IAT Max\n",
      "  - Fwd IAT Min\n",
      "  - Fwd Header Len\n",
      "  - Bwd Header Len\n",
      "  - Fwd Pkts/s\n",
      "  - Pkt Len Max\n",
      "  - Pkt Len Var\n",
      "  - Subflow Fwd Byts\n",
      "  - Init Fwd Win Byts\n",
      "  - Init Bwd Win Byts\n",
      "  - Date\n",
      "\n",
      "Recursive Feature Elimination:\n",
      "  - Dst Port\n",
      "  - Flow Duration\n",
      "  - TotLen Fwd Pkts\n",
      "  - Flow IAT Mean\n",
      "  - Flow IAT Max\n",
      "  - Fwd IAT Tot\n",
      "  - Fwd IAT Mean\n",
      "  - Fwd IAT Max\n",
      "  - Fwd IAT Min\n",
      "  - Bwd IAT Tot\n",
      "  - Bwd IAT Max\n",
      "  - Fwd Header Len\n",
      "  - Fwd Pkts/s\n",
      "  - Bwd Pkts/s\n",
      "  - Pkt Len Var\n",
      "  - Subflow Fwd Byts\n",
      "  - Init Fwd Win Byts\n",
      "  - Init Bwd Win Byts\n",
      "  - Date\n",
      "  - Time\n",
      "\n",
      "SelectKBest:\n",
      "  - Dst Port\n",
      "  - Protocol\n",
      "  - Flow Duration\n",
      "  - Fwd Pkt Len Max\n",
      "  - Bwd Pkt Len Max\n",
      "  - Bwd Pkt Len Min\n",
      "  - Bwd Pkt Len Mean\n",
      "  - Fwd IAT Tot\n",
      "  - Bwd IAT Tot\n",
      "  - Bwd Pkts/s\n",
      "  - Pkt Len Max\n",
      "  - RST Flag Cnt\n",
      "  - PSH Flag Cnt\n",
      "  - ACK Flag Cnt\n",
      "  - ECE Flag Cnt\n",
      "  - Bwd Seg Size Avg\n",
      "  - Init Fwd Win Byts\n",
      "  - Init Bwd Win Byts\n",
      "  - Fwd Seg Size Min\n",
      "  - Date\n",
      "\n",
      "Feature Importance using Tree-based Models:\n",
      "  - Dst Port\n",
      "  - Flow Duration\n",
      "  - TotLen Fwd Pkts\n",
      "  - Fwd Pkt Len Max\n",
      "  - Flow IAT Mean\n",
      "  - Flow IAT Max\n",
      "  - Fwd IAT Tot\n",
      "  - Fwd IAT Mean\n",
      "  - Fwd IAT Max\n",
      "  - Fwd IAT Min\n",
      "  - Fwd Header Len\n",
      "  - Bwd Header Len\n",
      "  - Fwd Pkts/s\n",
      "  - Bwd Pkts/s\n",
      "  - Subflow Fwd Byts\n",
      "  - Init Fwd Win Byts\n",
      "  - Fwd Seg Size Min\n",
      "  - Date\n",
      "  - Time\n",
      "\n"
     ]
    }
   ],
   "source": [
    "# Define the selected columns by each technique\n",
    "selected_columns = {\n",
    "    \"Information Gain\": selected_columns_ig,\n",
    "    \"Chi-Square\": selected_columns_cs,\n",
    "    \"Gain Ratio\": selected_columns_gr,\n",
    "    \"Recursive Feature Elimination\": selected_columns_rfe,\n",
    "    \"SelectKBest\": selected_columns_skb,\n",
    "    \"Feature Importance using Tree-based Models\": selected_columns_rf,\n",
    "}\n",
    "\n",
    "# Print the selected features\n",
    "for name, columns in selected_columns.items():\n",
    "    print(f\"{name}:\")\n",
    "    for column in columns:\n",
    "        print(f\"  - {column}\")\n",
    "    print()"
   ]
  },
  {
   "cell_type": "code",
   "execution_count": 16,
   "id": "d97d4956",
   "metadata": {
    "execution": {
     "iopub.execute_input": "2023-08-25T18:20:20.243535Z",
     "iopub.status.busy": "2023-08-25T18:20:20.242277Z",
     "iopub.status.idle": "2023-08-25T18:20:20.250328Z",
     "shell.execute_reply": "2023-08-25T18:20:20.249134Z"
    },
    "papermill": {
     "duration": 0.020468,
     "end_time": "2023-08-25T18:20:20.252565",
     "exception": false,
     "start_time": "2023-08-25T18:20:20.232097",
     "status": "completed"
    },
    "tags": []
   },
   "outputs": [
    {
     "name": "stdout",
     "output_type": "stream",
     "text": [
      "Combined Features (Intersection of Recursive Feature Elimination & Feature Importance using Tree-based Models):\n",
      "  - Fwd IAT Min\n",
      "  - TotLen Fwd Pkts\n",
      "  - Date\n",
      "  - Subflow Fwd Byts\n",
      "  - Flow IAT Max\n",
      "  - Dst Port\n",
      "  - Fwd IAT Max\n",
      "  - Bwd Pkts/s\n",
      "  - Time\n",
      "  - Flow Duration\n",
      "  - Fwd IAT Tot\n",
      "  - Fwd IAT Mean\n",
      "  - Fwd Header Len\n",
      "  - Fwd Pkts/s\n",
      "  - Init Fwd Win Byts\n",
      "  - Flow IAT Mean\n",
      "Size of Intersection: 16\n"
     ]
    }
   ],
   "source": [
    "# Find the intersection of the two sets of selected features\n",
    "combined_features_intersection = set(selected_columns_rfe).intersection(selected_columns_rf)\n",
    "\n",
    "# Print the combined features\n",
    "print(\"Combined Features (Intersection of Recursive Feature Elimination & Feature Importance using Tree-based Models):\")\n",
    "for feature in combined_features_intersection:\n",
    "    print(f\"  - {feature}\")\n",
    "\n",
    "# Print the size of the intersection\n",
    "intersection_size = len(combined_features_intersection)\n",
    "print(f\"Size of Intersection: {intersection_size}\")"
   ]
  },
  {
   "cell_type": "code",
   "execution_count": 17,
   "id": "6d0a5602",
   "metadata": {
    "execution": {
     "iopub.execute_input": "2023-08-25T18:20:20.272630Z",
     "iopub.status.busy": "2023-08-25T18:20:20.271672Z",
     "iopub.status.idle": "2023-08-25T18:20:20.279003Z",
     "shell.execute_reply": "2023-08-25T18:20:20.277956Z"
    },
    "papermill": {
     "duration": 0.019661,
     "end_time": "2023-08-25T18:20:20.281150",
     "exception": false,
     "start_time": "2023-08-25T18:20:20.261489",
     "status": "completed"
    },
    "tags": []
   },
   "outputs": [
    {
     "name": "stdout",
     "output_type": "stream",
     "text": [
      "Combined Features (Union of Recursive Feature Elimination & Feature Importance using Tree-based Models):\n",
      "  - TotLen Fwd Pkts\n",
      "  - Date\n",
      "  - Bwd Pkts/s\n",
      "  - Flow Duration\n",
      "  - Fwd Seg Size Min\n",
      "  - Fwd IAT Tot\n",
      "  - Fwd Pkt Len Max\n",
      "  - Fwd IAT Mean\n",
      "  - Fwd Header Len\n",
      "  - Pkt Len Var\n",
      "  - Init Fwd Win Byts\n",
      "  - Flow IAT Mean\n",
      "  - Init Bwd Win Byts\n",
      "  - Fwd IAT Min\n",
      "  - Subflow Fwd Byts\n",
      "  - Flow IAT Max\n",
      "  - Bwd IAT Tot\n",
      "  - Dst Port\n",
      "  - Fwd IAT Max\n",
      "  - Time\n",
      "  - Bwd IAT Max\n",
      "  - Fwd Pkts/s\n",
      "  - Bwd Header Len\n",
      "Size of Union: 23\n"
     ]
    }
   ],
   "source": [
    "# Find the union of the two sets of selected features\n",
    "combined_features_union = set(selected_columns_rfe).union(selected_columns_rf)\n",
    "\n",
    "# Print the combined features\n",
    "print(\"Combined Features (Union of Recursive Feature Elimination & Feature Importance using Tree-based Models):\")\n",
    "for feature in combined_features_union:\n",
    "    print(f\"  - {feature}\")\n",
    "\n",
    "# Print the size of the intersection\n",
    "union_size = len(combined_features_union)\n",
    "print(f\"Size of Union: {union_size}\")"
   ]
  }
 ],
 "metadata": {
  "kernelspec": {
   "display_name": "Python 3",
   "language": "python",
   "name": "python3"
  },
  "language_info": {
   "codemirror_mode": {
    "name": "ipython",
    "version": 3
   },
   "file_extension": ".py",
   "mimetype": "text/x-python",
   "name": "python",
   "nbconvert_exporter": "python",
   "pygments_lexer": "ipython3",
   "version": "3.10.12"
  },
  "papermill": {
   "default_parameters": {},
   "duration": 6124.041669,
   "end_time": "2023-08-25T18:20:22.040602",
   "environment_variables": {},
   "exception": null,
   "input_path": "__notebook__.ipynb",
   "output_path": "__notebook__.ipynb",
   "parameters": {},
   "start_time": "2023-08-25T16:38:17.998933",
   "version": "2.4.0"
  }
 },
 "nbformat": 4,
 "nbformat_minor": 5
}
