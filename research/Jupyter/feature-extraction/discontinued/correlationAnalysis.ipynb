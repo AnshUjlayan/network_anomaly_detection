{
 "cells": [
  {
   "cell_type": "markdown",
   "id": "2627e84d",
   "metadata": {},
   "source": [
    "# Correlation Analysis"
   ]
  },
  {
   "cell_type": "code",
   "execution_count": 1,
   "id": "da335dad",
   "metadata": {},
   "outputs": [
    {
     "name": "stdout",
     "output_type": "stream",
     "text": [
      "(12639793, 71)\n"
     ]
    }
   ],
   "source": [
    "import pandas as pd\n",
    "\n",
    "# Define the list of file names\n",
    "file_names = [\n",
    "    \"../../train/02-14-2018_clean.csv\",\n",
    "    \"../../train/02-15-2018_clean.csv\",\n",
    "    \"../../train/02-16-2018_clean.csv\",\n",
    "    \"../../train/02-20-2018_clean.csv\",\n",
    "    \"../../train/02-21-2018_clean.csv\",\n",
    "    \"../../train/02-22-2018_clean.csv\",\n",
    "    \"../../train/02-23-2018_clean.csv\",\n",
    "    \"../../train/02-28-2018_clean.csv\",\n",
    "    \"../../train/03-01-2018_clean.csv\",\n",
    "    \"../../train/03-02-2018_clean.csv\"\n",
    "]\n",
    "\n",
    "# Initialize an empty list to store the DataFrames\n",
    "dfs = []\n",
    "\n",
    "# Loop through the file names and read each file as a DataFrame\n",
    "for file_name in file_names:\n",
    "    df = pd.read_csv(file_name)\n",
    "    dfs.append(df)\n",
    "\n",
    "# Concatenate the DataFrames into a single DataFrame\n",
    "df = pd.concat(dfs, ignore_index=True)\n",
    "\n",
    "# Print the shape of the combined DataFrame\n",
    "print(df.shape)\n"
   ]
  },
  {
   "cell_type": "code",
   "execution_count": 2,
   "id": "8a74c60f",
   "metadata": {},
   "outputs": [],
   "source": [
    "corr_matrix = df.corr()"
   ]
  },
  {
   "cell_type": "code",
   "execution_count": 3,
   "id": "57c429a0",
   "metadata": {},
   "outputs": [
    {
     "name": "stdout",
     "output_type": "stream",
     "text": [
      "['Dst Port', 'Protocol', 'Fwd Pkt Len Max', 'Fwd Pkt Len Min', 'Fwd Pkt Len Mean', 'Fwd Pkt Len Std', 'Bwd Pkt Len Min', 'Bwd Pkt Len Mean', 'Pkt Len Min', 'Pkt Len Mean', 'ACK Flag Cnt', 'Pkt Size Avg', 'Fwd Seg Size Avg', 'Bwd Seg Size Avg', 'Init Fwd Win Byts', 'Init Bwd Win Byts', 'Fwd Seg Size Min', 'Time']\n"
     ]
    }
   ],
   "source": [
    "correlation_threshold = 0.1\n",
    "\n",
    "# Select columns with correlation above the threshold with the target variable\n",
    "relevant_columns = corr_matrix[abs(corr_matrix['Label']) > correlation_threshold].index.tolist()\n",
    "\n",
    "# Exclude the 'Label' column from the relevant columns\n",
    "relevant_columns.remove('Label')\n",
    "\n",
    "# Print the relevant columns\n",
    "print(relevant_columns)"
   ]
  },
  {
   "cell_type": "code",
   "execution_count": 4,
   "id": "59e55cba",
   "metadata": {},
   "outputs": [
    {
     "name": "stdout",
     "output_type": "stream",
     "text": [
      "18\n"
     ]
    }
   ],
   "source": [
    "print(len(relevant_columns))"
   ]
  },
  {
   "cell_type": "code",
   "execution_count": 5,
   "id": "bd2cb1ae",
   "metadata": {},
   "outputs": [
    {
     "name": "stdout",
     "output_type": "stream",
     "text": [
      "          Dst Port  Protocol  Fwd Pkt Len Max  Fwd Pkt Len Min  \\\n",
      "0              443         6             1109                0   \n",
      "1            50198         6                0                0   \n",
      "2               22         6                0                0   \n",
      "3               53        17               42               42   \n",
      "4             3389         6              661                0   \n",
      "...            ...       ...              ...              ...   \n",
      "12639788        53        17               36               36   \n",
      "12639789        53        17               40               40   \n",
      "12639790       445         6                0                0   \n",
      "12639791      8080         6                0                0   \n",
      "12639792       443         6              285                0   \n",
      "\n",
      "          Fwd Pkt Len Mean  Fwd Pkt Len Std  Bwd Pkt Len Min  \\\n",
      "0                      381              418                0   \n",
      "1                        0                0                0   \n",
      "2                        0                0                0   \n",
      "3                       42                0               58   \n",
      "4                      113              205                0   \n",
      "...                    ...              ...              ...   \n",
      "12639788                36                0               52   \n",
      "12639789                40                0              101   \n",
      "12639790                 0                0                0   \n",
      "12639791                 0                0                0   \n",
      "12639792                39               80                0   \n",
      "\n",
      "          Bwd Pkt Len Mean  Pkt Len Min  Pkt Len Mean  ACK Flag Cnt  \\\n",
      "0                      376            0           365             0   \n",
      "1                        0            0             0             1   \n",
      "2                        0            0             0             1   \n",
      "3                       58           42            47             0   \n",
      "4                      344            0           204             0   \n",
      "...                    ...          ...           ...           ...   \n",
      "12639788                52           36            42             0   \n",
      "12639789               101           40            64             0   \n",
      "12639790                 0            0             0             0   \n",
      "12639791                 0            0             0             1   \n",
      "12639792               968            0           592             0   \n",
      "\n",
      "          Pkt Size Avg  Fwd Seg Size Avg  Bwd Seg Size Avg  Init Fwd Win Byts  \\\n",
      "0                  379               381               376               8192   \n",
      "1                    0                 0                 0                123   \n",
      "2                    0                 0                 0                241   \n",
      "3                   71                42                58                 -1   \n",
      "4                  215               113               344               8192   \n",
      "...                ...               ...               ...                ...   \n",
      "12639788            53                36                52                 -1   \n",
      "12639789            80                40               101                 -1   \n",
      "12639790             0                 0                 0               8192   \n",
      "12639791             0                 0                 0               2052   \n",
      "12639792           603                39               968               8192   \n",
      "\n",
      "          Init Bwd Win Byts  Fwd Seg Size Min    Time  \n",
      "0                       513                20   82833  \n",
      "1                       253                20  112654  \n",
      "2                       230                32   25715  \n",
      "3                        -1                 8   85801  \n",
      "4                     62868                20   12757  \n",
      "...                     ...               ...     ...  \n",
      "12639788                 -1                 8   12745  \n",
      "12639789                 -1                 8   24651  \n",
      "12639790               8192                20   34548  \n",
      "12639791                 -1                20   34053  \n",
      "12639792                254                20   11828  \n",
      "\n",
      "[12639793 rows x 18 columns]\n"
     ]
    }
   ],
   "source": [
    "# Drop all other columns except for the relevant columns\n",
    "df_filtered = df.drop(columns=[col for col in df.columns if col not in relevant_columns])\n",
    "\n",
    "# Print the updated DataFrame\n",
    "print(df_filtered)\n"
   ]
  },
  {
   "cell_type": "code",
   "execution_count": 9,
   "id": "3383f89a",
   "metadata": {
    "scrolled": true
   },
   "outputs": [
    {
     "name": "stdout",
     "output_type": "stream",
     "text": [
      "Accuracy: 0.990223338274078\n"
     ]
    }
   ],
   "source": [
    "import pandas as pd\n",
    "import xgboost as xgb\n",
    "from sklearn.model_selection import train_test_split\n",
    "\n",
    "# Split the DataFrame into features (X) and the target variable (y)\n",
    "X = df_filtered\n",
    "y = df['Label']\n",
    "\n",
    "# Split the data into training and testing sets\n",
    "X_train, X_test, y_train, y_test = train_test_split(X, y, test_size=0.2, random_state=42)\n",
    "\n",
    "# Create an XGBoost classifier\n",
    "clf = xgb.XGBClassifier()\n",
    "\n",
    "# Train the classifier on the training dataset\n",
    "clf.fit(X_train, y_train)\n",
    "\n",
    "# Evaluate the model on the testing dataset\n",
    "accuracy = clf.score(X_test, y_test)\n",
    "print(\"Accuracy:\", accuracy)\n"
   ]
  },
  {
   "cell_type": "code",
   "execution_count": 7,
   "id": "36a39201",
   "metadata": {},
   "outputs": [
    {
     "data": {
      "text/plain": [
       "(12639793, 18)"
      ]
     },
     "execution_count": 7,
     "metadata": {},
     "output_type": "execute_result"
    }
   ],
   "source": [
    "df_filtered.shape"
   ]
  },
  {
   "cell_type": "code",
   "execution_count": 13,
   "id": "485e04a7",
   "metadata": {},
   "outputs": [
    {
     "name": "stdout",
     "output_type": "stream",
     "text": [
      "Accuracy: 0.990223338274078\n"
     ]
    }
   ],
   "source": [
    "y_pred = clf.predict(X_test)\n",
    "\n",
    "# Calculate accuracy\n",
    "accuracy = clf.score(X_test, y_test)\n",
    "print(\"Accuracy:\", accuracy)\n"
   ]
  },
  {
   "cell_type": "code",
   "execution_count": 14,
   "id": "c70cad14",
   "metadata": {},
   "outputs": [
    {
     "name": "stdout",
     "output_type": "stream",
     "text": [
      "              precision    recall  f1-score   support\n",
      "\n",
      "           0       0.99      1.00      0.99   2150974\n",
      "           1       1.00      1.00      1.00     45059\n",
      "           2       0.98      0.95      0.97     25425\n",
      "           3       1.00      1.00      1.00    280771\n",
      "           4       0.76      0.16      0.27     25719\n",
      "           5       1.00      1.00      1.00        11\n",
      "\n",
      "    accuracy                           0.99   2527959\n",
      "   macro avg       0.95      0.85      0.87   2527959\n",
      "weighted avg       0.99      0.99      0.99   2527959\n",
      "\n"
     ]
    }
   ],
   "source": [
    "from sklearn.metrics import classification_report\n",
    "report = classification_report(y_test, y_pred)\n",
    "print(report)"
   ]
  },
  {
   "cell_type": "code",
   "execution_count": 20,
   "id": "f577b37e",
   "metadata": {},
   "outputs": [],
   "source": [
    "test_data = pd.read_csv(\"../test/test.csv\")\n",
    "y_test = test_data[\"Label\"]\n",
    "X_test = test_data.drop(columns=[col for col in df.columns if col not in relevant_columns])\n",
    "X_test = X_test.drop(columns='Unnamed: 0')"
   ]
  },
  {
   "cell_type": "code",
   "execution_count": 29,
   "id": "badec230",
   "metadata": {},
   "outputs": [
    {
     "data": {
      "text/plain": [
       "Index(['Dst Port', 'Protocol', 'Fwd Pkt Len Max', 'Fwd Pkt Len Min',\n",
       "       'Fwd Pkt Len Mean', 'Fwd Pkt Len Std', 'Bwd Pkt Len Min',\n",
       "       'Bwd Pkt Len Mean', 'Pkt Len Min', 'Pkt Len Mean', 'ACK Flag Cnt',\n",
       "       'Pkt Size Avg', 'Fwd Seg Size Avg', 'Bwd Seg Size Avg',\n",
       "       'Init Fwd Win Byts', 'Init Bwd Win Byts', 'Fwd Seg Size Min', 'Time'],\n",
       "      dtype='object')"
      ]
     },
     "execution_count": 29,
     "metadata": {},
     "output_type": "execute_result"
    }
   ],
   "source": [
    "X_test.columns"
   ]
  },
  {
   "cell_type": "code",
   "execution_count": 33,
   "id": "6390663a",
   "metadata": {},
   "outputs": [
    {
     "name": "stdout",
     "output_type": "stream",
     "text": [
      "Accuracy: 0.9901087199026568\n",
      "Precision: 0.9882634288549882\n",
      "Recall: 0.9901087199026568\n",
      "F1-score: 0.9871506482405777\n",
      "Confusion Matrix:\n",
      "[[2686526       2       4     119    1631       0]\n",
      " [     56   56556       0       0       1       0]\n",
      " [     30       0   29958    1562       0       0]\n",
      " [      0       0     577  350388       0       0]\n",
      " [  27267       0       1       1    5255       0]\n",
      " [      5       0       0       0       0      16]]\n"
     ]
    }
   ],
   "source": [
    "from sklearn.metrics import accuracy_score, precision_score, recall_score, f1_score, confusion_matrix\n",
    "\n",
    "# Make predictions on the test data\n",
    "y_pred_test = clf.predict(X_test)\n",
    "\n",
    "# Calculate accuracy\n",
    "accuracy = accuracy_score(y_test, y_pred_test)\n",
    "print(\"Accuracy:\", accuracy)\n",
    "\n",
    "# Calculate precision, recall, and F1-score\n",
    "precision = precision_score(y_test, y_pred_test, average='weighted')\n",
    "recall = recall_score(y_test, y_pred_test, average='weighted')\n",
    "f1 = f1_score(y_test, y_pred_test, average='weighted')\n",
    "\n",
    "print(\"Precision:\", precision)\n",
    "print(\"Recall:\", recall)\n",
    "print(\"F1-score:\", f1)\n",
    "\n",
    "# Calculate confusion matrix\n",
    "confusion_mat = confusion_matrix(y_test, y_pred_test)\n",
    "print(\"Confusion Matrix:\")\n",
    "print(confusion_mat)\n"
   ]
  },
  {
   "cell_type": "code",
   "execution_count": 34,
   "id": "4a0e93c7",
   "metadata": {},
   "outputs": [
    {
     "data": {
      "image/png": "[encoded data removed]",
      "text/plain": [
       "<Figure size 800x600 with 2 Axes>"
      ]
     },
     "metadata": {},
     "output_type": "display_data"
    }
   ],
   "source": [
    "import matplotlib.pyplot as plt\n",
    "import seaborn as sns\n",
    "# Display confusion matrix as heatmap\n",
    "plt.figure(figsize=(8, 6))\n",
    "sns.heatmap(confusion_mat, annot=True, fmt='d', cmap='Blues')\n",
    "plt.xlabel('Predicted Label')\n",
    "plt.ylabel('True Label')\n",
    "plt.title('Confusion Matrix')\n",
    "plt.show()"
   ]
  },
  {
   "cell_type": "code",
   "execution_count": 35,
   "id": "41c94460",
   "metadata": {},
   "outputs": [],
   "source": [
    "import pickle\n",
    "\n",
    "# Save the trained model to a file\n",
    "model_filename = 'xgboost_corrAnalysis.pkl'\n",
    "pickle.dump(clf, open(model_filename, 'wb'))"
   ]
  }
 ],
 "metadata": {
  "kernelspec": {
   "display_name": "Python 3 (ipykernel)",
   "language": "python",
   "name": "python3"
  },
  "language_info": {
   "codemirror_mode": {
    "name": "ipython",
    "version": 3
   },
   "file_extension": ".py",
   "mimetype": "text/x-python",
   "name": "python",
   "nbconvert_exporter": "python",
   "pygments_lexer": "ipython3",
   "version": "3.9.13"
  }
 },
 "nbformat": 4,
 "nbformat_minor": 5
}
