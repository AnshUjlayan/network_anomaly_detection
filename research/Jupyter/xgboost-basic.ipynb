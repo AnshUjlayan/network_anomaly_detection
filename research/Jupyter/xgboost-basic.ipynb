{
 "cells": [
  {
   "cell_type": "code",
   "execution_count": 1,
   "id": "c88ac620",
   "metadata": {
    "_cell_guid": "b1076dfc-b9ad-4769-8c92-a6c4dae69d19",
    "_uuid": "8f2839f25d086af736a60e9eeb907d3b93b6e0e5",
    "execution": {
     "iopub.execute_input": "2023-08-25T09:43:00.819975Z",
     "iopub.status.busy": "2023-08-25T09:43:00.819586Z",
     "iopub.status.idle": "2023-08-25T09:43:00.848256Z",
     "shell.execute_reply": "2023-08-25T09:43:00.847395Z"
    },
    "papermill": {
     "duration": 0.038198,
     "end_time": "2023-08-25T09:43:00.850890",
     "exception": false,
     "start_time": "2023-08-25T09:43:00.812692",
     "status": "completed"
    },
    "tags": []
   },
   "outputs": [
    {
     "name": "stdout",
     "output_type": "stream",
     "text": [
      "/kaggle/input/clean-cic-ids-2018/test/test.csv\n",
      "/kaggle/input/clean-cic-ids-2018/train/03-01-2018_clean.csv\n",
      "/kaggle/input/clean-cic-ids-2018/train/02-22-2018_clean.csv\n",
      "/kaggle/input/clean-cic-ids-2018/train/02-21-2018_clean.csv\n",
      "/kaggle/input/clean-cic-ids-2018/train/02-23-2018_clean.csv\n",
      "/kaggle/input/clean-cic-ids-2018/train/02-15-2018_clean.csv\n",
      "/kaggle/input/clean-cic-ids-2018/train/02-28-2018_clean.csv\n",
      "/kaggle/input/clean-cic-ids-2018/train/02-16-2018_clean.csv\n",
      "/kaggle/input/clean-cic-ids-2018/train/03-02-2018_clean.csv\n",
      "/kaggle/input/clean-cic-ids-2018/train/02-14-2018_clean.csv\n",
      "/kaggle/input/clean-cic-ids-2018/train/02-20-2018_clean.csv\n"
     ]
    }
   ],
   "source": [
    "# This Python 3 environment comes with many helpful analytics libraries installed\n",
    "# It is defined by the kaggle/python Docker image: https://github.com/kaggle/docker-python\n",
    "# For example, here's several helpful packages to load\n",
    "\n",
    "import numpy as np # linear algebra\n",
    "import pandas as pd # data processing, CSV file I/O (e.g. pd.read_csv)\n",
    "\n",
    "# Input data files are available in the read-only \"../input/\" directory\n",
    "# For example, running this (by clicking run or pressing Shift+Enter) will list all files under the input directory\n",
    "\n",
    "import os\n",
    "for dirname, _, filenames in os.walk('/kaggle/input'):\n",
    "    for filename in filenames:\n",
    "        print(os.path.join(dirname, filename))\n",
    "\n",
    "# You can write up to 20GB to the current directory (/kaggle/working/) that gets preserved as output when you create a version using \"Save & Run All\" \n",
    "# You can also write temporary files to /kaggle/temp/, but they won't be saved outside of the current session"
   ]
  },
  {
   "cell_type": "code",
   "execution_count": 2,
   "id": "7b361121",
   "metadata": {
    "execution": {
     "iopub.execute_input": "2023-08-25T09:43:00.862394Z",
     "iopub.status.busy": "2023-08-25T09:43:00.861580Z",
     "iopub.status.idle": "2023-08-25T09:45:01.532637Z",
     "shell.execute_reply": "2023-08-25T09:45:01.531204Z"
    },
    "papermill": {
     "duration": 120.682729,
     "end_time": "2023-08-25T09:45:01.538481",
     "exception": false,
     "start_time": "2023-08-25T09:43:00.855752",
     "status": "completed"
    },
    "tags": []
   },
   "outputs": [
    {
     "name": "stdout",
     "output_type": "stream",
     "text": [
      "(12639793, 71)\n"
     ]
    }
   ],
   "source": [
    "# Define the list of file names\n",
    "file_names = [\n",
    "    \"/kaggle/input/clean-cic-ids-2018/train/02-14-2018_clean.csv\",\n",
    "    \"/kaggle/input/clean-cic-ids-2018/train/02-15-2018_clean.csv\",\n",
    "    \"/kaggle/input/clean-cic-ids-2018/train/02-16-2018_clean.csv\",\n",
    "    \"/kaggle/input/clean-cic-ids-2018/train/02-20-2018_clean.csv\",\n",
    "    \"/kaggle/input/clean-cic-ids-2018/train/02-21-2018_clean.csv\",\n",
    "    \"/kaggle/input/clean-cic-ids-2018/train/02-22-2018_clean.csv\",\n",
    "    \"/kaggle/input/clean-cic-ids-2018/train/02-23-2018_clean.csv\",\n",
    "    \"/kaggle/input/clean-cic-ids-2018/train/02-28-2018_clean.csv\",\n",
    "    \"/kaggle/input/clean-cic-ids-2018/train/03-01-2018_clean.csv\",\n",
    "    \"/kaggle/input/clean-cic-ids-2018/train/03-02-2018_clean.csv\"\n",
    "]\n",
    "\n",
    "# Initialize an empty list to store the DataFrames\n",
    "dfs = []\n",
    "\n",
    "# Loop through the file names and read each file as a DataFrame\n",
    "for file_name in file_names:\n",
    "    df = pd.read_csv(file_name)\n",
    "    dfs.append(df)\n",
    "\n",
    "# Concatenate the DataFrames into a single DataFrame\n",
    "df = pd.concat(dfs, ignore_index=True)\n",
    "\n",
    "# Print the shape of the combined DataFrame\n",
    "print(df.shape)"
   ]
  },
  {
   "cell_type": "code",
   "execution_count": 3,
   "id": "7f007411",
   "metadata": {
    "execution": {
     "iopub.execute_input": "2023-08-25T09:45:01.549542Z",
     "iopub.status.busy": "2023-08-25T09:45:01.549109Z",
     "iopub.status.idle": "2023-08-25T09:45:31.810232Z",
     "shell.execute_reply": "2023-08-25T09:45:31.809079Z"
    },
    "papermill": {
     "duration": 30.273233,
     "end_time": "2023-08-25T09:45:31.816347",
     "exception": false,
     "start_time": "2023-08-25T09:45:01.543114",
     "status": "completed"
    },
    "tags": []
   },
   "outputs": [
    {
     "name": "stdout",
     "output_type": "stream",
     "text": [
      "(3159955, 71)\n"
     ]
    }
   ],
   "source": [
    "test = pd.read_csv(\"/kaggle/input/clean-cic-ids-2018/test/test.csv\", index_col=False)\n",
    "test = test.drop(columns='Unnamed: 0')\n",
    "print(test.shape)"
   ]
  },
  {
   "cell_type": "code",
   "execution_count": 4,
   "id": "b003dad8",
   "metadata": {
    "execution": {
     "iopub.execute_input": "2023-08-25T09:45:31.827912Z",
     "iopub.status.busy": "2023-08-25T09:45:31.826909Z",
     "iopub.status.idle": "2023-08-25T09:45:31.838393Z",
     "shell.execute_reply": "2023-08-25T09:45:31.837180Z"
    },
    "papermill": {
     "duration": 0.019725,
     "end_time": "2023-08-25T09:45:31.840696",
     "exception": false,
     "start_time": "2023-08-25T09:45:31.820971",
     "status": "completed"
    },
    "tags": []
   },
   "outputs": [
    {
     "data": {
      "text/plain": [
       "36"
      ]
     },
     "execution_count": 4,
     "metadata": {},
     "output_type": "execute_result"
    }
   ],
   "source": [
    "features = [\n",
    "    \"PSH Flag Cnt\",\n",
    "    \"Dst Port\",\n",
    "    \"Init Fwd Win Byts\",\n",
    "    \"RST Flag Cnt\",\n",
    "    \"Fwd PSH Flags\",\n",
    "    \"Bwd IAT Max\",\n",
    "    \"Date\",\n",
    "    \"Fwd IAT Tot\",\n",
    "    \"Fwd IAT Max\",\n",
    "    \"Fwd IAT Min\",\n",
    "    \"Fwd Seg Size Min\",\n",
    "    \"Bwd Seg Size Avg\",\n",
    "    \"Flow Duration\",\n",
    "    \"Init Bwd Win Byts\",\n",
    "    \"Fwd IAT Mean\",\n",
    "    \"Pkt Len Std\",\n",
    "    \"Bwd Pkts/s\",\n",
    "    \"Time\",\n",
    "    \"Bwd Pkt Len Mean\",\n",
    "    \"Fwd Pkt Len Max\",\n",
    "    \"Fwd Pkts/s\",\n",
    "    \"Bwd Header Len\",\n",
    "    \"Bwd IAT Tot\",\n",
    "    \"Pkt Len Max\",\n",
    "    \"Bwd Pkt Len Min\",\n",
    "    \"Bwd Pkt Len Max\",\n",
    "    \"Subflow Fwd Byts\",\n",
    "    \"Flow IAT Max\",\n",
    "    \"ACK Flag Cnt\",\n",
    "    \"Flow IAT Mean\",\n",
    "    \"TotLen Fwd Pkts\",\n",
    "    \"Fwd Header Len\",\n",
    "    \"Protocol\",\n",
    "    \"ECE Flag Cnt\",\n",
    "    \"Pkt Len Var\",\n",
    "    \"SYN Flag Cnt\"\n",
    "]\n",
    "len(features)"
   ]
  },
  {
   "cell_type": "code",
   "execution_count": 5,
   "id": "7c18039b",
   "metadata": {
    "execution": {
     "iopub.execute_input": "2023-08-25T09:45:31.852578Z",
     "iopub.status.busy": "2023-08-25T09:45:31.851522Z",
     "iopub.status.idle": "2023-08-25T09:45:33.881148Z",
     "shell.execute_reply": "2023-08-25T09:45:33.879949Z"
    },
    "papermill": {
     "duration": 2.038635,
     "end_time": "2023-08-25T09:45:33.884237",
     "exception": false,
     "start_time": "2023-08-25T09:45:31.845602",
     "status": "completed"
    },
    "tags": []
   },
   "outputs": [],
   "source": [
    "cols_to_drop = [col for col in df.columns if col not in features and col != 'Label']\n",
    "df.drop(cols_to_drop, axis=1, inplace=True)\n",
    "test.drop(cols_to_drop, axis=1, inplace=True)"
   ]
  },
  {
   "cell_type": "code",
   "execution_count": 6,
   "id": "9f417a03",
   "metadata": {
    "execution": {
     "iopub.execute_input": "2023-08-25T09:45:33.895929Z",
     "iopub.status.busy": "2023-08-25T09:45:33.895493Z",
     "iopub.status.idle": "2023-08-25T09:45:35.668184Z",
     "shell.execute_reply": "2023-08-25T09:45:35.666708Z"
    },
    "papermill": {
     "duration": 1.781736,
     "end_time": "2023-08-25T09:45:35.670912",
     "exception": false,
     "start_time": "2023-08-25T09:45:33.889176",
     "status": "completed"
    },
    "tags": []
   },
   "outputs": [],
   "source": [
    "X_train = df.drop('Label', axis=1)\n",
    "y_train = df['Label']\n",
    "X_test = test.drop('Label', axis=1)\n",
    "y_test = test['Label']"
   ]
  },
  {
   "cell_type": "code",
   "execution_count": 7,
   "id": "b5eb9fd5",
   "metadata": {
    "execution": {
     "iopub.execute_input": "2023-08-25T09:45:35.682315Z",
     "iopub.status.busy": "2023-08-25T09:45:35.681919Z",
     "iopub.status.idle": "2023-08-25T12:03:10.995689Z",
     "shell.execute_reply": "2023-08-25T12:03:10.994190Z"
    },
    "papermill": {
     "duration": 8255.328854,
     "end_time": "2023-08-25T12:03:11.004684",
     "exception": false,
     "start_time": "2023-08-25T09:45:35.675830",
     "status": "completed"
    },
    "tags": []
   },
   "outputs": [
    {
     "name": "stderr",
     "output_type": "stream",
     "text": [
      "/opt/conda/lib/python3.10/site-packages/scipy/__init__.py:146: UserWarning: A NumPy version >=1.16.5 and <1.23.0 is required for this version of SciPy (detected version 1.23.5\n",
      "  warnings.warn(f\"A NumPy version >={np_minversion} and <{np_maxversion}\"\n"
     ]
    },
    {
     "data": {
      "text/html": [
       "<style>#sk-container-id-1 {color: black;background-color: white;}#sk-container-id-1 pre{padding: 0;}#sk-container-id-1 div.sk-toggleable {background-color: white;}#sk-container-id-1 label.sk-toggleable__label {cursor: pointer;display: block;width: 100%;margin-bottom: 0;padding: 0.3em;box-sizing: border-box;text-align: center;}#sk-container-id-1 label.sk-toggleable__label-arrow:before {content: \"▸\";float: left;margin-right: 0.25em;color: #696969;}#sk-container-id-1 label.sk-toggleable__label-arrow:hover:before {color: black;}#sk-container-id-1 div.sk-estimator:hover label.sk-toggleable__label-arrow:before {color: black;}#sk-container-id-1 div.sk-toggleable__content {max-height: 0;max-width: 0;overflow: hidden;text-align: left;background-color: #f0f8ff;}#sk-container-id-1 div.sk-toggleable__content pre {margin: 0.2em;color: black;border-radius: 0.25em;background-color: #f0f8ff;}#sk-container-id-1 input.sk-toggleable__control:checked~div.sk-toggleable__content {max-height: 200px;max-width: 100%;overflow: auto;}#sk-container-id-1 input.sk-toggleable__control:checked~label.sk-toggleable__label-arrow:before {content: \"▾\";}#sk-container-id-1 div.sk-estimator input.sk-toggleable__control:checked~label.sk-toggleable__label {background-color: #d4ebff;}#sk-container-id-1 div.sk-label input.sk-toggleable__control:checked~label.sk-toggleable__label {background-color: #d4ebff;}#sk-container-id-1 input.sk-hidden--visually {border: 0;clip: rect(1px 1px 1px 1px);clip: rect(1px, 1px, 1px, 1px);height: 1px;margin: -1px;overflow: hidden;padding: 0;position: absolute;width: 1px;}#sk-container-id-1 div.sk-estimator {font-family: monospace;background-color: #f0f8ff;border: 1px dotted black;border-radius: 0.25em;box-sizing: border-box;margin-bottom: 0.5em;}#sk-container-id-1 div.sk-estimator:hover {background-color: #d4ebff;}#sk-container-id-1 div.sk-parallel-item::after {content: \"\";width: 100%;border-bottom: 1px solid gray;flex-grow: 1;}#sk-container-id-1 div.sk-label:hover label.sk-toggleable__label {background-color: #d4ebff;}#sk-container-id-1 div.sk-serial::before {content: \"\";position: absolute;border-left: 1px solid gray;box-sizing: border-box;top: 0;bottom: 0;left: 50%;z-index: 0;}#sk-container-id-1 div.sk-serial {display: flex;flex-direction: column;align-items: center;background-color: white;padding-right: 0.2em;padding-left: 0.2em;position: relative;}#sk-container-id-1 div.sk-item {position: relative;z-index: 1;}#sk-container-id-1 div.sk-parallel {display: flex;align-items: stretch;justify-content: center;background-color: white;position: relative;}#sk-container-id-1 div.sk-item::before, #sk-container-id-1 div.sk-parallel-item::before {content: \"\";position: absolute;border-left: 1px solid gray;box-sizing: border-box;top: 0;bottom: 0;left: 50%;z-index: -1;}#sk-container-id-1 div.sk-parallel-item {display: flex;flex-direction: column;z-index: 1;position: relative;background-color: white;}#sk-container-id-1 div.sk-parallel-item:first-child::after {align-self: flex-end;width: 50%;}#sk-container-id-1 div.sk-parallel-item:last-child::after {align-self: flex-start;width: 50%;}#sk-container-id-1 div.sk-parallel-item:only-child::after {width: 0;}#sk-container-id-1 div.sk-dashed-wrapped {border: 1px dashed gray;margin: 0 0.4em 0.5em 0.4em;box-sizing: border-box;padding-bottom: 0.4em;background-color: white;}#sk-container-id-1 div.sk-label label {font-family: monospace;font-weight: bold;display: inline-block;line-height: 1.2em;}#sk-container-id-1 div.sk-label-container {text-align: center;}#sk-container-id-1 div.sk-container {/* jupyter's `normalize.less` sets `[hidden] { display: none; }` but bootstrap.min.css set `[hidden] { display: none !important; }` so we also need the `!important` here to be able to override the default hidden behavior on the sphinx rendered scikit-learn.org. See: https://github.com/scikit-learn/scikit-learn/issues/21755 */display: inline-block !important;position: relative;}#sk-container-id-1 div.sk-text-repr-fallback {display: none;}</style><div id=\"sk-container-id-1\" class=\"sk-top-container\"><div class=\"sk-text-repr-fallback\"><pre>XGBClassifier(base_score=None, booster=None, callbacks=None,\n",
       "              colsample_bylevel=None, colsample_bynode=None,\n",
       "              colsample_bytree=None, early_stopping_rounds=None,\n",
       "              enable_categorical=False, eval_metric=None, feature_types=None,\n",
       "              gamma=None, gpu_id=None, grow_policy=None, importance_type=None,\n",
       "              interaction_constraints=None, learning_rate=None, max_bin=None,\n",
       "              max_cat_threshold=None, max_cat_to_onehot=None,\n",
       "              max_delta_step=None, max_depth=None, max_leaves=None,\n",
       "              min_child_weight=None, missing=nan, monotone_constraints=None,\n",
       "              n_estimators=100, n_jobs=-1, num_parallel_tree=None,\n",
       "              objective=&#x27;multi:softprob&#x27;, predictor=None, ...)</pre><b>In a Jupyter environment, please rerun this cell to show the HTML representation or trust the notebook. <br />On GitHub, the HTML representation is unable to render, please try loading this page with nbviewer.org.</b></div><div class=\"sk-container\" hidden><div class=\"sk-item\"><div class=\"sk-estimator sk-toggleable\"><input class=\"sk-toggleable__control sk-hidden--visually\" id=\"sk-estimator-id-1\" type=\"checkbox\" checked><label for=\"sk-estimator-id-1\" class=\"sk-toggleable__label sk-toggleable__label-arrow\">XGBClassifier</label><div class=\"sk-toggleable__content\"><pre>XGBClassifier(base_score=None, booster=None, callbacks=None,\n",
       "              colsample_bylevel=None, colsample_bynode=None,\n",
       "              colsample_bytree=None, early_stopping_rounds=None,\n",
       "              enable_categorical=False, eval_metric=None, feature_types=None,\n",
       "              gamma=None, gpu_id=None, grow_policy=None, importance_type=None,\n",
       "              interaction_constraints=None, learning_rate=None, max_bin=None,\n",
       "              max_cat_threshold=None, max_cat_to_onehot=None,\n",
       "              max_delta_step=None, max_depth=None, max_leaves=None,\n",
       "              min_child_weight=None, missing=nan, monotone_constraints=None,\n",
       "              n_estimators=100, n_jobs=-1, num_parallel_tree=None,\n",
       "              objective=&#x27;multi:softprob&#x27;, predictor=None, ...)</pre></div></div></div></div></div>"
      ],
      "text/plain": [
       "XGBClassifier(base_score=None, booster=None, callbacks=None,\n",
       "              colsample_bylevel=None, colsample_bynode=None,\n",
       "              colsample_bytree=None, early_stopping_rounds=None,\n",
       "              enable_categorical=False, eval_metric=None, feature_types=None,\n",
       "              gamma=None, gpu_id=None, grow_policy=None, importance_type=None,\n",
       "              interaction_constraints=None, learning_rate=None, max_bin=None,\n",
       "              max_cat_threshold=None, max_cat_to_onehot=None,\n",
       "              max_delta_step=None, max_depth=None, max_leaves=None,\n",
       "              min_child_weight=None, missing=nan, monotone_constraints=None,\n",
       "              n_estimators=100, n_jobs=-1, num_parallel_tree=None,\n",
       "              objective='multi:softprob', predictor=None, ...)"
      ]
     },
     "execution_count": 7,
     "metadata": {},
     "output_type": "execute_result"
    }
   ],
   "source": [
    "from xgboost import XGBClassifier\n",
    "\n",
    "# Calculate class weights\n",
    "class_weights = len(y_train) / (6 * np.bincount(y_train))\n",
    "\n",
    "# Create the XGBClassifier with class weights\n",
    "model1 = XGBClassifier(n_jobs=-1)\n",
    "\n",
    "# Fit the model with class weights\n",
    "model1.fit(X_train, y_train, sample_weight=class_weights[y_train])"
   ]
  },
  {
   "cell_type": "code",
   "execution_count": 8,
   "id": "af09f169",
   "metadata": {
    "execution": {
     "iopub.execute_input": "2023-08-25T12:03:11.018704Z",
     "iopub.status.busy": "2023-08-25T12:03:11.018098Z",
     "iopub.status.idle": "2023-08-25T12:03:30.561335Z",
     "shell.execute_reply": "2023-08-25T12:03:30.560130Z"
    },
    "papermill": {
     "duration": 19.563623,
     "end_time": "2023-08-25T12:03:30.574062",
     "exception": false,
     "start_time": "2023-08-25T12:03:11.010439",
     "status": "completed"
    },
    "tags": []
   },
   "outputs": [
    {
     "data": {
      "image/png": "[encoded data removed]",
      "text/plain": [
       "<Figure size 800x600 with 2 Axes>"
      ]
     },
     "metadata": {},
     "output_type": "display_data"
    }
   ],
   "source": [
    "from sklearn.metrics import confusion_matrix\n",
    "import seaborn as sns\n",
    "import matplotlib.pyplot as plt\n",
    "\n",
    "# Get predictions from the best_model\n",
    "y_pred = model1.predict(X_test)\n",
    "\n",
    "# Compute confusion matrix\n",
    "cm1 = confusion_matrix(y_test, y_pred)\n",
    "\n",
    "label_names = ['Benign', 'Bot', 'Brute Force', 'Dos', 'Infiltration', 'SQL Injection']\n",
    "\n",
    "# Create a heatmap of the confusion matrix\n",
    "plt.figure(figsize=(8, 6))\n",
    "sns.heatmap(cm1, annot=True, cmap=\"YlGnBu\", fmt=\"d\")\n",
    "\n",
    "# Set custom tick labels\n",
    "plt.xticks(ticks=range(len(label_names)), labels=label_names, rotation=45, ha='right')\n",
    "plt.yticks(ticks=range(len(label_names)), labels=label_names, rotation=0)\n",
    "\n",
    "plt.title(\"Confusion Matrix\"), plt.tight_layout()\n",
    "plt.ylabel(\"True Class\"), plt.xlabel(\"Predicted Class\")\n",
    "plt.show()"
   ]
  },
  {
   "cell_type": "code",
   "execution_count": 9,
   "id": "2469e22d",
   "metadata": {
    "execution": {
     "iopub.execute_input": "2023-08-25T12:03:30.595125Z",
     "iopub.status.busy": "2023-08-25T12:03:30.593754Z",
     "iopub.status.idle": "2023-08-25T12:03:34.105331Z",
     "shell.execute_reply": "2023-08-25T12:03:34.103813Z"
    },
    "papermill": {
     "duration": 3.523185,
     "end_time": "2023-08-25T12:03:34.107958",
     "exception": false,
     "start_time": "2023-08-25T12:03:30.584773",
     "status": "completed"
    },
    "tags": []
   },
   "outputs": [
    {
     "name": "stdout",
     "output_type": "stream",
     "text": [
      "Model 1 Accuracy:  0.9924347023929139\n",
      "Model 1 Precision:  0.9956247642171445\n",
      "Model 1 Recall:  0.9924347023929139\n",
      "Model 1 F1 Score:  0.9934298118134848\n"
     ]
    }
   ],
   "source": [
    "from sklearn.metrics import precision_score, recall_score, f1_score, accuracy_score\n",
    "\n",
    "# Calculating Evaluation Metrics\n",
    "accuracy_model1 = accuracy_score(y_test, y_pred)\n",
    "precision_model1 = precision_score(y_test, y_pred, average='weighted')\n",
    "recall_model1 = recall_score(y_test, y_pred, average='weighted')\n",
    "f1_model1 = f1_score(y_test, y_pred, average='weighted')\n",
    "\n",
    "print(\"Model 1 Accuracy: \", accuracy_model1)\n",
    "print(\"Model 1 Precision: \", precision_model1)\n",
    "print(\"Model 1 Recall: \", recall_model1)\n",
    "print(\"Model 1 F1 Score: \", f1_model1)"
   ]
  },
  {
   "cell_type": "code",
   "execution_count": 10,
   "id": "37cb95f2",
   "metadata": {
    "execution": {
     "iopub.execute_input": "2023-08-25T12:03:34.122277Z",
     "iopub.status.busy": "2023-08-25T12:03:34.121903Z",
     "iopub.status.idle": "2023-08-25T12:03:34.145761Z",
     "shell.execute_reply": "2023-08-25T12:03:34.144644Z"
    },
    "papermill": {
     "duration": 0.034518,
     "end_time": "2023-08-25T12:03:34.148634",
     "exception": false,
     "start_time": "2023-08-25T12:03:34.114116",
     "status": "completed"
    },
    "tags": []
   },
   "outputs": [],
   "source": [
    "import pickle\n",
    "\n",
    "Pkl_Filename = \"XGBoost-basic.pkl\"  \n",
    "\n",
    "with open(Pkl_Filename, 'wb') as file:  \n",
    "    pickle.dump(model1, file)"
   ]
  }
 ],
 "metadata": {
  "kernelspec": {
   "display_name": "Python 3",
   "language": "python",
   "name": "python3"
  },
  "language_info": {
   "codemirror_mode": {
    "name": "ipython",
    "version": 3
   },
   "file_extension": ".py",
   "mimetype": "text/x-python",
   "name": "python",
   "nbconvert_exporter": "python",
   "pygments_lexer": "ipython3",
   "version": "3.10.12"
  },
  "papermill": {
   "default_parameters": {},
   "duration": 8446.602723,
   "end_time": "2023-08-25T12:03:35.708256",
   "environment_variables": {},
   "exception": null,
   "input_path": "__notebook__.ipynb",
   "output_path": "__notebook__.ipynb",
   "parameters": {},
   "start_time": "2023-08-25T09:42:49.105533",
   "version": "2.4.0"
  }
 },
 "nbformat": 4,
 "nbformat_minor": 5
}
